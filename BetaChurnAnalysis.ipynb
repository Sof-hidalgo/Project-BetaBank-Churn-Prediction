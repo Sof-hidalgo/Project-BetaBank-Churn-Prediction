{
  "cells": [
    {
      "cell_type": "markdown",
      "metadata": {
        "id": "Kdjy_rm0zV-n"
      },
      "source": [
        "# Modelo para identificar posibles clientes en riesgo de churn - Beta Bank\n",
        "\n",
        "## Introducción\n",
        "\n",
        "Los clientes de Beta Bank se están yendo, cada mes, poco a poco. Los banqueros descubrieron el costo de adquirir un nuevo cliente es más caro que el costo que retener el cliente.\n",
        "## Objetivo\n",
        "\n",
        "El objetivo de este código es desarrollar el mejor modelo que pueda analizar el comportamiento de los clientes y  predecir si un cliente dejará el banco pronto.\n",
        "\n",
        "Ya se han realizado las etapas del preprocesamiento y análisis de datos.\n",
        "\n",
        "## Etapas del Modelo\n",
        "\n",
        "1. **Importar librerías**\n",
        "\n",
        "2. **Cargar archivo y vista general**\n",
        "\n",
        "3. **Preprocesamiento**\n",
        "\n",
        "3. **Segmentar Datos en Conjuntos**: Se dividirán los datos en conjuntos de Entrenamiento, Validación y Prueba\n",
        "    - Dividir el dataset\n",
        "    - Definir features y target\n",
        "    \n",
        "    \n",
        "4. **Examinar el equilibrio de clases**:\n",
        "    - Se entrenarán varios modelos sin tener en cuenta el desequilibrio y se eligirá el mejor. Con algoritmos como DecisionTreeClassifier, RandonForestClassifier, LogisticRegression.\n",
        "    \n",
        "\n",
        "5. **Mejorar de la calidad del modelo con el Conjunto de Prueba**:\n",
        "    - Después de encontrar el mejor algoritmo:\n",
        "        - Verificar F1 para el conjunto de prueba.\n",
        "        - Se utilizarán los conjuntos de entrenamiento y validación para encontrar el mejor modelo y el mejor conjunto de parámetros.\n",
        "    \n",
        "\n",
        "6. **Prueba final**\n",
        "\n",
        "\n",
        "\n",
        "## Conclusiones finales\n",
        "Se extraerán conclusiones basadas en el rendimiento del modelo final seleccionado y se realizarán recomendaciones sobre la implementación del modelo para Beta Bank.\n",
        "\n",
        "---"
      ]
    },
    {
      "cell_type": "markdown",
      "metadata": {
        "id": "u0x9K-CGzV-q"
      },
      "source": [
        "## Importar librerías"
      ]
    },
    {
      "cell_type": "code",
      "execution_count": null,
      "metadata": {
        "id": "NFllC-kwzV-r"
      },
      "outputs": [],
      "source": [
        "import pandas as pd\n",
        "import numpy as np\n",
        "from matplotlib import pyplot as plt\n",
        "import seaborn as sns\n",
        "\n",
        "from sklearn.model_selection import train_test_split\n",
        "\n",
        "from sklearn.preprocessing import StandardScaler\n",
        "\n",
        "from sklearn.tree import DecisionTreeClassifier\n",
        "from sklearn.ensemble import RandomForestClassifier\n",
        "from sklearn.linear_model import LogisticRegression\n",
        "\n",
        "from sklearn.metrics import f1_score\n",
        "from sklearn.metrics import precision_recall_curve\n",
        "from sklearn.metrics import roc_auc_score\n",
        "from sklearn.utils import shuffle\n",
        "\n",
        "import re"
      ]
    },
    {
      "cell_type": "markdown",
      "metadata": {
        "id": "Ze0RLsaPzV-u"
      },
      "source": [
        "----\n",
        "## Cargar archivo y vista general"
      ]
    },
    {
      "cell_type": "code",
      "execution_count": null,
      "metadata": {
        "id": "9l4gOA5VzV-v"
      },
      "outputs": [],
      "source": [
        "raw_data_path = '/datasets/Churn.csv'"
      ]
    },
    {
      "cell_type": "code",
      "execution_count": null,
      "metadata": {
        "id": "EcvB_19wzV-x",
        "outputId": "057ce123-e1a1-4b30-f05b-bef3c8ec359b"
      },
      "outputs": [
        {
          "data": {
            "text/html": [
              "<div>\n",
              "<style scoped>\n",
              "    .dataframe tbody tr th:only-of-type {\n",
              "        vertical-align: middle;\n",
              "    }\n",
              "\n",
              "    .dataframe tbody tr th {\n",
              "        vertical-align: top;\n",
              "    }\n",
              "\n",
              "    .dataframe thead th {\n",
              "        text-align: right;\n",
              "    }\n",
              "</style>\n",
              "<table border=\"1\" class=\"dataframe\">\n",
              "  <thead>\n",
              "    <tr style=\"text-align: right;\">\n",
              "      <th></th>\n",
              "      <th>RowNumber</th>\n",
              "      <th>CustomerId</th>\n",
              "      <th>Surname</th>\n",
              "      <th>CreditScore</th>\n",
              "      <th>Geography</th>\n",
              "      <th>Gender</th>\n",
              "      <th>Age</th>\n",
              "      <th>Tenure</th>\n",
              "      <th>Balance</th>\n",
              "      <th>NumOfProducts</th>\n",
              "      <th>HasCrCard</th>\n",
              "      <th>IsActiveMember</th>\n",
              "      <th>EstimatedSalary</th>\n",
              "      <th>Exited</th>\n",
              "    </tr>\n",
              "  </thead>\n",
              "  <tbody>\n",
              "    <tr>\n",
              "      <th>0</th>\n",
              "      <td>1</td>\n",
              "      <td>15634602</td>\n",
              "      <td>Hargrave</td>\n",
              "      <td>619</td>\n",
              "      <td>France</td>\n",
              "      <td>Female</td>\n",
              "      <td>42</td>\n",
              "      <td>2.0</td>\n",
              "      <td>0.00</td>\n",
              "      <td>1</td>\n",
              "      <td>1</td>\n",
              "      <td>1</td>\n",
              "      <td>101348.88</td>\n",
              "      <td>1</td>\n",
              "    </tr>\n",
              "    <tr>\n",
              "      <th>1</th>\n",
              "      <td>2</td>\n",
              "      <td>15647311</td>\n",
              "      <td>Hill</td>\n",
              "      <td>608</td>\n",
              "      <td>Spain</td>\n",
              "      <td>Female</td>\n",
              "      <td>41</td>\n",
              "      <td>1.0</td>\n",
              "      <td>83807.86</td>\n",
              "      <td>1</td>\n",
              "      <td>0</td>\n",
              "      <td>1</td>\n",
              "      <td>112542.58</td>\n",
              "      <td>0</td>\n",
              "    </tr>\n",
              "    <tr>\n",
              "      <th>2</th>\n",
              "      <td>3</td>\n",
              "      <td>15619304</td>\n",
              "      <td>Onio</td>\n",
              "      <td>502</td>\n",
              "      <td>France</td>\n",
              "      <td>Female</td>\n",
              "      <td>42</td>\n",
              "      <td>8.0</td>\n",
              "      <td>159660.80</td>\n",
              "      <td>3</td>\n",
              "      <td>1</td>\n",
              "      <td>0</td>\n",
              "      <td>113931.57</td>\n",
              "      <td>1</td>\n",
              "    </tr>\n",
              "    <tr>\n",
              "      <th>3</th>\n",
              "      <td>4</td>\n",
              "      <td>15701354</td>\n",
              "      <td>Boni</td>\n",
              "      <td>699</td>\n",
              "      <td>France</td>\n",
              "      <td>Female</td>\n",
              "      <td>39</td>\n",
              "      <td>1.0</td>\n",
              "      <td>0.00</td>\n",
              "      <td>2</td>\n",
              "      <td>0</td>\n",
              "      <td>0</td>\n",
              "      <td>93826.63</td>\n",
              "      <td>0</td>\n",
              "    </tr>\n",
              "    <tr>\n",
              "      <th>4</th>\n",
              "      <td>5</td>\n",
              "      <td>15737888</td>\n",
              "      <td>Mitchell</td>\n",
              "      <td>850</td>\n",
              "      <td>Spain</td>\n",
              "      <td>Female</td>\n",
              "      <td>43</td>\n",
              "      <td>2.0</td>\n",
              "      <td>125510.82</td>\n",
              "      <td>1</td>\n",
              "      <td>1</td>\n",
              "      <td>1</td>\n",
              "      <td>79084.10</td>\n",
              "      <td>0</td>\n",
              "    </tr>\n",
              "    <tr>\n",
              "      <th>...</th>\n",
              "      <td>...</td>\n",
              "      <td>...</td>\n",
              "      <td>...</td>\n",
              "      <td>...</td>\n",
              "      <td>...</td>\n",
              "      <td>...</td>\n",
              "      <td>...</td>\n",
              "      <td>...</td>\n",
              "      <td>...</td>\n",
              "      <td>...</td>\n",
              "      <td>...</td>\n",
              "      <td>...</td>\n",
              "      <td>...</td>\n",
              "      <td>...</td>\n",
              "    </tr>\n",
              "    <tr>\n",
              "      <th>9995</th>\n",
              "      <td>9996</td>\n",
              "      <td>15606229</td>\n",
              "      <td>Obijiaku</td>\n",
              "      <td>771</td>\n",
              "      <td>France</td>\n",
              "      <td>Male</td>\n",
              "      <td>39</td>\n",
              "      <td>5.0</td>\n",
              "      <td>0.00</td>\n",
              "      <td>2</td>\n",
              "      <td>1</td>\n",
              "      <td>0</td>\n",
              "      <td>96270.64</td>\n",
              "      <td>0</td>\n",
              "    </tr>\n",
              "    <tr>\n",
              "      <th>9996</th>\n",
              "      <td>9997</td>\n",
              "      <td>15569892</td>\n",
              "      <td>Johnstone</td>\n",
              "      <td>516</td>\n",
              "      <td>France</td>\n",
              "      <td>Male</td>\n",
              "      <td>35</td>\n",
              "      <td>10.0</td>\n",
              "      <td>57369.61</td>\n",
              "      <td>1</td>\n",
              "      <td>1</td>\n",
              "      <td>1</td>\n",
              "      <td>101699.77</td>\n",
              "      <td>0</td>\n",
              "    </tr>\n",
              "    <tr>\n",
              "      <th>9997</th>\n",
              "      <td>9998</td>\n",
              "      <td>15584532</td>\n",
              "      <td>Liu</td>\n",
              "      <td>709</td>\n",
              "      <td>France</td>\n",
              "      <td>Female</td>\n",
              "      <td>36</td>\n",
              "      <td>7.0</td>\n",
              "      <td>0.00</td>\n",
              "      <td>1</td>\n",
              "      <td>0</td>\n",
              "      <td>1</td>\n",
              "      <td>42085.58</td>\n",
              "      <td>1</td>\n",
              "    </tr>\n",
              "    <tr>\n",
              "      <th>9998</th>\n",
              "      <td>9999</td>\n",
              "      <td>15682355</td>\n",
              "      <td>Sabbatini</td>\n",
              "      <td>772</td>\n",
              "      <td>Germany</td>\n",
              "      <td>Male</td>\n",
              "      <td>42</td>\n",
              "      <td>3.0</td>\n",
              "      <td>75075.31</td>\n",
              "      <td>2</td>\n",
              "      <td>1</td>\n",
              "      <td>0</td>\n",
              "      <td>92888.52</td>\n",
              "      <td>1</td>\n",
              "    </tr>\n",
              "    <tr>\n",
              "      <th>9999</th>\n",
              "      <td>10000</td>\n",
              "      <td>15628319</td>\n",
              "      <td>Walker</td>\n",
              "      <td>792</td>\n",
              "      <td>France</td>\n",
              "      <td>Female</td>\n",
              "      <td>28</td>\n",
              "      <td>NaN</td>\n",
              "      <td>130142.79</td>\n",
              "      <td>1</td>\n",
              "      <td>1</td>\n",
              "      <td>0</td>\n",
              "      <td>38190.78</td>\n",
              "      <td>0</td>\n",
              "    </tr>\n",
              "  </tbody>\n",
              "</table>\n",
              "<p>10000 rows × 14 columns</p>\n",
              "</div>"
            ],
            "text/plain": [
              "      RowNumber  CustomerId    Surname  CreditScore Geography  Gender  Age  \\\n",
              "0             1    15634602   Hargrave          619    France  Female   42   \n",
              "1             2    15647311       Hill          608     Spain  Female   41   \n",
              "2             3    15619304       Onio          502    France  Female   42   \n",
              "3             4    15701354       Boni          699    France  Female   39   \n",
              "4             5    15737888   Mitchell          850     Spain  Female   43   \n",
              "...         ...         ...        ...          ...       ...     ...  ...   \n",
              "9995       9996    15606229   Obijiaku          771    France    Male   39   \n",
              "9996       9997    15569892  Johnstone          516    France    Male   35   \n",
              "9997       9998    15584532        Liu          709    France  Female   36   \n",
              "9998       9999    15682355  Sabbatini          772   Germany    Male   42   \n",
              "9999      10000    15628319     Walker          792    France  Female   28   \n",
              "\n",
              "      Tenure    Balance  NumOfProducts  HasCrCard  IsActiveMember  \\\n",
              "0        2.0       0.00              1          1               1   \n",
              "1        1.0   83807.86              1          0               1   \n",
              "2        8.0  159660.80              3          1               0   \n",
              "3        1.0       0.00              2          0               0   \n",
              "4        2.0  125510.82              1          1               1   \n",
              "...      ...        ...            ...        ...             ...   \n",
              "9995     5.0       0.00              2          1               0   \n",
              "9996    10.0   57369.61              1          1               1   \n",
              "9997     7.0       0.00              1          0               1   \n",
              "9998     3.0   75075.31              2          1               0   \n",
              "9999     NaN  130142.79              1          1               0   \n",
              "\n",
              "      EstimatedSalary  Exited  \n",
              "0           101348.88       1  \n",
              "1           112542.58       0  \n",
              "2           113931.57       1  \n",
              "3            93826.63       0  \n",
              "4            79084.10       0  \n",
              "...               ...     ...  \n",
              "9995         96270.64       0  \n",
              "9996        101699.77       0  \n",
              "9997         42085.58       1  \n",
              "9998         92888.52       1  \n",
              "9999         38190.78       0  \n",
              "\n",
              "[10000 rows x 14 columns]"
            ]
          },
          "execution_count": 3,
          "metadata": {},
          "output_type": "execute_result"
        }
      ],
      "source": [
        "raw_data = pd.read_csv(raw_data_path)\n",
        "raw_data"
      ]
    },
    {
      "cell_type": "code",
      "execution_count": null,
      "metadata": {
        "id": "Tzpyde3nzV-z",
        "outputId": "072f4438-6f7c-471a-b4b1-034f6fa408ae"
      },
      "outputs": [
        {
          "name": "stdout",
          "output_type": "stream",
          "text": [
            "<class 'pandas.core.frame.DataFrame'>\n",
            "RangeIndex: 10000 entries, 0 to 9999\n",
            "Data columns (total 14 columns):\n",
            " #   Column           Non-Null Count  Dtype  \n",
            "---  ------           --------------  -----  \n",
            " 0   RowNumber        10000 non-null  int64  \n",
            " 1   CustomerId       10000 non-null  int64  \n",
            " 2   Surname          10000 non-null  object \n",
            " 3   CreditScore      10000 non-null  int64  \n",
            " 4   Geography        10000 non-null  object \n",
            " 5   Gender           10000 non-null  object \n",
            " 6   Age              10000 non-null  int64  \n",
            " 7   Tenure           9091 non-null   float64\n",
            " 8   Balance          10000 non-null  float64\n",
            " 9   NumOfProducts    10000 non-null  int64  \n",
            " 10  HasCrCard        10000 non-null  int64  \n",
            " 11  IsActiveMember   10000 non-null  int64  \n",
            " 12  EstimatedSalary  10000 non-null  float64\n",
            " 13  Exited           10000 non-null  int64  \n",
            "dtypes: float64(3), int64(8), object(3)\n",
            "memory usage: 1.1+ MB\n"
          ]
        }
      ],
      "source": [
        "raw_data.info()"
      ]
    },
    {
      "cell_type": "code",
      "execution_count": null,
      "metadata": {
        "id": "E5pN7_knzV-0",
        "outputId": "7c927efd-ebe8-4666-a3af-169f13c4c3b3"
      },
      "outputs": [
        {
          "data": {
            "text/plain": [
              "(10000, 14)"
            ]
          },
          "execution_count": 5,
          "metadata": {},
          "output_type": "execute_result"
        }
      ],
      "source": [
        "raw_data.shape"
      ]
    },
    {
      "cell_type": "markdown",
      "metadata": {
        "id": "zqIUs3CazV-1"
      },
      "source": [
        "**Conclusión**: Se puede ver la presencia de valores nulos en la columna `tenure` y la necesidad de limpiar algunas variables que no aportan información al modelo\n",
        "\n",
        "## Preprocesamiento\n",
        "\n",
        "### Limpieza columnas - de CamelCase a snake_case"
      ]
    },
    {
      "cell_type": "code",
      "execution_count": null,
      "metadata": {
        "id": "ZEomvs3vzV-2",
        "outputId": "34e9dd93-afb9-4fd5-e679-001eac837c07"
      },
      "outputs": [
        {
          "data": {
            "text/plain": [
              "Index(['row_number', 'customer_id', 'surname', 'credit_score', 'geography',\n",
              "       'gender', 'age', 'tenure', 'balance', 'num_of_products', 'has_cr_card',\n",
              "       'is_active_member', 'estimated_salary', 'exited'],\n",
              "      dtype='object')"
            ]
          },
          "execution_count": 6,
          "metadata": {},
          "output_type": "execute_result"
        }
      ],
      "source": [
        "def camel_to_snake(name):\n",
        "    pattern = re.compile(r'(?<!^)(?=[A-Z])')\n",
        "    return pattern.sub('_', name).lower()\n",
        "\n",
        "# se aplica la función a las columnas del DataFrame\n",
        "raw_data.columns = [camel_to_snake(col) for col in raw_data.columns]\n",
        "\n",
        "# varificamos los nuevos nombres de las columnas\n",
        "raw_data.columns"
      ]
    },
    {
      "cell_type": "markdown",
      "metadata": {
        "id": "r-JIiyt-zV-3"
      },
      "source": [
        "**Conclusión**: El cambio de formato de las columnas a snake_case estandarizó los nombres, facilitando el manejo de los datos."
      ]
    },
    {
      "cell_type": "markdown",
      "metadata": {
        "id": "4t36ysO7zV-3"
      },
      "source": [
        "### Duplicados"
      ]
    },
    {
      "cell_type": "code",
      "execution_count": null,
      "metadata": {
        "id": "GH7Pp3ifzV-4",
        "outputId": "dea1f244-49d7-40ed-e2be-26b73c6b8e3d"
      },
      "outputs": [
        {
          "data": {
            "text/plain": [
              "0"
            ]
          },
          "execution_count": 7,
          "metadata": {},
          "output_type": "execute_result"
        }
      ],
      "source": [
        "raw_data.duplicated().sum()"
      ]
    },
    {
      "cell_type": "markdown",
      "metadata": {
        "id": "FWdvgFkUzV-5"
      },
      "source": [
        "No se detectaron duplicados, por lo que no fue necesario realizar una eliminación adicional de registros."
      ]
    },
    {
      "cell_type": "markdown",
      "metadata": {
        "id": "HkxnvLzRzV-5"
      },
      "source": [
        "### Reemplazo de valores nulos"
      ]
    },
    {
      "cell_type": "code",
      "execution_count": null,
      "metadata": {
        "id": "giQDfli-zV-6",
        "outputId": "290f7cc0-90c6-4e76-a358-147f9f644ff0"
      },
      "outputs": [
        {
          "data": {
            "text/plain": [
              "row_number            0\n",
              "customer_id           0\n",
              "surname               0\n",
              "credit_score          0\n",
              "geography             0\n",
              "gender                0\n",
              "age                   0\n",
              "tenure              909\n",
              "balance               0\n",
              "num_of_products       0\n",
              "has_cr_card           0\n",
              "is_active_member      0\n",
              "estimated_salary      0\n",
              "exited                0\n",
              "dtype: int64"
            ]
          },
          "execution_count": 8,
          "metadata": {},
          "output_type": "execute_result"
        }
      ],
      "source": [
        "raw_data.isnull().sum()"
      ]
    },
    {
      "cell_type": "markdown",
      "metadata": {
        "id": "b_RKjNduzV-6"
      },
      "source": [
        "Tenure es la cantidad de años que ha pasado desde que tienen el depósito en plazo fijo. Los nulos aquí pueden decir que su depósito tenga menos de un año, o que no lo tengan."
      ]
    },
    {
      "cell_type": "code",
      "execution_count": null,
      "metadata": {
        "id": "TNJvmUrlzV-6",
        "outputId": "9f06834f-265c-460f-f237-80d8c5a78fa1"
      },
      "outputs": [
        {
          "data": {
            "text/html": [
              "<div>\n",
              "<style scoped>\n",
              "    .dataframe tbody tr th:only-of-type {\n",
              "        vertical-align: middle;\n",
              "    }\n",
              "\n",
              "    .dataframe tbody tr th {\n",
              "        vertical-align: top;\n",
              "    }\n",
              "\n",
              "    .dataframe thead th {\n",
              "        text-align: right;\n",
              "    }\n",
              "</style>\n",
              "<table border=\"1\" class=\"dataframe\">\n",
              "  <thead>\n",
              "    <tr style=\"text-align: right;\">\n",
              "      <th></th>\n",
              "      <th>row_number</th>\n",
              "      <th>customer_id</th>\n",
              "      <th>surname</th>\n",
              "      <th>credit_score</th>\n",
              "      <th>geography</th>\n",
              "      <th>gender</th>\n",
              "      <th>age</th>\n",
              "      <th>tenure</th>\n",
              "      <th>balance</th>\n",
              "      <th>num_of_products</th>\n",
              "      <th>has_cr_card</th>\n",
              "      <th>is_active_member</th>\n",
              "      <th>estimated_salary</th>\n",
              "      <th>exited</th>\n",
              "    </tr>\n",
              "  </thead>\n",
              "  <tbody>\n",
              "    <tr>\n",
              "      <th>30</th>\n",
              "      <td>31</td>\n",
              "      <td>15589475</td>\n",
              "      <td>Azikiwe</td>\n",
              "      <td>591</td>\n",
              "      <td>Spain</td>\n",
              "      <td>Female</td>\n",
              "      <td>39</td>\n",
              "      <td>NaN</td>\n",
              "      <td>0.00</td>\n",
              "      <td>3</td>\n",
              "      <td>1</td>\n",
              "      <td>0</td>\n",
              "      <td>140469.38</td>\n",
              "      <td>1</td>\n",
              "    </tr>\n",
              "    <tr>\n",
              "      <th>48</th>\n",
              "      <td>49</td>\n",
              "      <td>15766205</td>\n",
              "      <td>Yin</td>\n",
              "      <td>550</td>\n",
              "      <td>Germany</td>\n",
              "      <td>Male</td>\n",
              "      <td>38</td>\n",
              "      <td>NaN</td>\n",
              "      <td>103391.38</td>\n",
              "      <td>1</td>\n",
              "      <td>0</td>\n",
              "      <td>1</td>\n",
              "      <td>90878.13</td>\n",
              "      <td>0</td>\n",
              "    </tr>\n",
              "    <tr>\n",
              "      <th>51</th>\n",
              "      <td>52</td>\n",
              "      <td>15768193</td>\n",
              "      <td>Trevisani</td>\n",
              "      <td>585</td>\n",
              "      <td>Germany</td>\n",
              "      <td>Male</td>\n",
              "      <td>36</td>\n",
              "      <td>NaN</td>\n",
              "      <td>146050.97</td>\n",
              "      <td>2</td>\n",
              "      <td>0</td>\n",
              "      <td>0</td>\n",
              "      <td>86424.57</td>\n",
              "      <td>0</td>\n",
              "    </tr>\n",
              "    <tr>\n",
              "      <th>53</th>\n",
              "      <td>54</td>\n",
              "      <td>15702298</td>\n",
              "      <td>Parkhill</td>\n",
              "      <td>655</td>\n",
              "      <td>Germany</td>\n",
              "      <td>Male</td>\n",
              "      <td>41</td>\n",
              "      <td>NaN</td>\n",
              "      <td>125561.97</td>\n",
              "      <td>1</td>\n",
              "      <td>0</td>\n",
              "      <td>0</td>\n",
              "      <td>164040.94</td>\n",
              "      <td>1</td>\n",
              "    </tr>\n",
              "    <tr>\n",
              "      <th>60</th>\n",
              "      <td>61</td>\n",
              "      <td>15651280</td>\n",
              "      <td>Hunter</td>\n",
              "      <td>742</td>\n",
              "      <td>Germany</td>\n",
              "      <td>Male</td>\n",
              "      <td>35</td>\n",
              "      <td>NaN</td>\n",
              "      <td>136857.00</td>\n",
              "      <td>1</td>\n",
              "      <td>0</td>\n",
              "      <td>0</td>\n",
              "      <td>84509.57</td>\n",
              "      <td>0</td>\n",
              "    </tr>\n",
              "    <tr>\n",
              "      <th>...</th>\n",
              "      <td>...</td>\n",
              "      <td>...</td>\n",
              "      <td>...</td>\n",
              "      <td>...</td>\n",
              "      <td>...</td>\n",
              "      <td>...</td>\n",
              "      <td>...</td>\n",
              "      <td>...</td>\n",
              "      <td>...</td>\n",
              "      <td>...</td>\n",
              "      <td>...</td>\n",
              "      <td>...</td>\n",
              "      <td>...</td>\n",
              "      <td>...</td>\n",
              "    </tr>\n",
              "    <tr>\n",
              "      <th>9944</th>\n",
              "      <td>9945</td>\n",
              "      <td>15703923</td>\n",
              "      <td>Cameron</td>\n",
              "      <td>744</td>\n",
              "      <td>Germany</td>\n",
              "      <td>Male</td>\n",
              "      <td>41</td>\n",
              "      <td>NaN</td>\n",
              "      <td>190409.34</td>\n",
              "      <td>2</td>\n",
              "      <td>1</td>\n",
              "      <td>1</td>\n",
              "      <td>138361.48</td>\n",
              "      <td>0</td>\n",
              "    </tr>\n",
              "    <tr>\n",
              "      <th>9956</th>\n",
              "      <td>9957</td>\n",
              "      <td>15707861</td>\n",
              "      <td>Nucci</td>\n",
              "      <td>520</td>\n",
              "      <td>France</td>\n",
              "      <td>Female</td>\n",
              "      <td>46</td>\n",
              "      <td>NaN</td>\n",
              "      <td>85216.61</td>\n",
              "      <td>1</td>\n",
              "      <td>1</td>\n",
              "      <td>0</td>\n",
              "      <td>117369.52</td>\n",
              "      <td>1</td>\n",
              "    </tr>\n",
              "    <tr>\n",
              "      <th>9964</th>\n",
              "      <td>9965</td>\n",
              "      <td>15642785</td>\n",
              "      <td>Douglas</td>\n",
              "      <td>479</td>\n",
              "      <td>France</td>\n",
              "      <td>Male</td>\n",
              "      <td>34</td>\n",
              "      <td>NaN</td>\n",
              "      <td>117593.48</td>\n",
              "      <td>2</td>\n",
              "      <td>0</td>\n",
              "      <td>0</td>\n",
              "      <td>113308.29</td>\n",
              "      <td>0</td>\n",
              "    </tr>\n",
              "    <tr>\n",
              "      <th>9985</th>\n",
              "      <td>9986</td>\n",
              "      <td>15586914</td>\n",
              "      <td>Nepean</td>\n",
              "      <td>659</td>\n",
              "      <td>France</td>\n",
              "      <td>Male</td>\n",
              "      <td>36</td>\n",
              "      <td>NaN</td>\n",
              "      <td>123841.49</td>\n",
              "      <td>2</td>\n",
              "      <td>1</td>\n",
              "      <td>0</td>\n",
              "      <td>96833.00</td>\n",
              "      <td>0</td>\n",
              "    </tr>\n",
              "    <tr>\n",
              "      <th>9999</th>\n",
              "      <td>10000</td>\n",
              "      <td>15628319</td>\n",
              "      <td>Walker</td>\n",
              "      <td>792</td>\n",
              "      <td>France</td>\n",
              "      <td>Female</td>\n",
              "      <td>28</td>\n",
              "      <td>NaN</td>\n",
              "      <td>130142.79</td>\n",
              "      <td>1</td>\n",
              "      <td>1</td>\n",
              "      <td>0</td>\n",
              "      <td>38190.78</td>\n",
              "      <td>0</td>\n",
              "    </tr>\n",
              "  </tbody>\n",
              "</table>\n",
              "<p>909 rows × 14 columns</p>\n",
              "</div>"
            ],
            "text/plain": [
              "      row_number  customer_id    surname  credit_score geography  gender  age  \\\n",
              "30            31     15589475    Azikiwe           591     Spain  Female   39   \n",
              "48            49     15766205        Yin           550   Germany    Male   38   \n",
              "51            52     15768193  Trevisani           585   Germany    Male   36   \n",
              "53            54     15702298   Parkhill           655   Germany    Male   41   \n",
              "60            61     15651280     Hunter           742   Germany    Male   35   \n",
              "...          ...          ...        ...           ...       ...     ...  ...   \n",
              "9944        9945     15703923    Cameron           744   Germany    Male   41   \n",
              "9956        9957     15707861      Nucci           520    France  Female   46   \n",
              "9964        9965     15642785    Douglas           479    France    Male   34   \n",
              "9985        9986     15586914     Nepean           659    France    Male   36   \n",
              "9999       10000     15628319     Walker           792    France  Female   28   \n",
              "\n",
              "      tenure    balance  num_of_products  has_cr_card  is_active_member  \\\n",
              "30       NaN       0.00                3            1                 0   \n",
              "48       NaN  103391.38                1            0                 1   \n",
              "51       NaN  146050.97                2            0                 0   \n",
              "53       NaN  125561.97                1            0                 0   \n",
              "60       NaN  136857.00                1            0                 0   \n",
              "...      ...        ...              ...          ...               ...   \n",
              "9944     NaN  190409.34                2            1                 1   \n",
              "9956     NaN   85216.61                1            1                 0   \n",
              "9964     NaN  117593.48                2            0                 0   \n",
              "9985     NaN  123841.49                2            1                 0   \n",
              "9999     NaN  130142.79                1            1                 0   \n",
              "\n",
              "      estimated_salary  exited  \n",
              "30           140469.38       1  \n",
              "48            90878.13       0  \n",
              "51            86424.57       0  \n",
              "53           164040.94       1  \n",
              "60            84509.57       0  \n",
              "...                ...     ...  \n",
              "9944         138361.48       0  \n",
              "9956         117369.52       1  \n",
              "9964         113308.29       0  \n",
              "9985          96833.00       0  \n",
              "9999          38190.78       0  \n",
              "\n",
              "[909 rows x 14 columns]"
            ]
          },
          "execution_count": 9,
          "metadata": {},
          "output_type": "execute_result"
        }
      ],
      "source": [
        "# cantidad de nulos para 'tenure'\n",
        "tenure_null = raw_data[raw_data['tenure'].isnull()]\n",
        "tenure_null"
      ]
    },
    {
      "cell_type": "markdown",
      "metadata": {
        "id": "PoHN3Q9DzV-7"
      },
      "source": [
        "Para reemplazar lo valores NaN, se utilizará la mediana ya que es un valor central, que divide los datos 50% y 50%.\n",
        "No se remplazará con 0 ya que hay valores de Tenure con 0, esto sesgaría nuestro modelo y no sería correcto"
      ]
    },
    {
      "cell_type": "code",
      "execution_count": null,
      "metadata": {
        "id": "_tsrun0wzV-7"
      },
      "outputs": [],
      "source": [
        "# valores nulos reeplazados con la mediana\n",
        "raw_data['tenure'].fillna(\n",
        "                        raw_data['tenure'].median(),\n",
        "                        inplace=True\n",
        "                        )"
      ]
    },
    {
      "cell_type": "code",
      "execution_count": null,
      "metadata": {
        "id": "YTW8rj_BzV-8",
        "outputId": "b7f15c35-acf3-4a95-a82b-11ab6cc9fab1"
      },
      "outputs": [
        {
          "data": {
            "text/plain": [
              "row_number          0\n",
              "customer_id         0\n",
              "surname             0\n",
              "credit_score        0\n",
              "geography           0\n",
              "gender              0\n",
              "age                 0\n",
              "tenure              0\n",
              "balance             0\n",
              "num_of_products     0\n",
              "has_cr_card         0\n",
              "is_active_member    0\n",
              "estimated_salary    0\n",
              "exited              0\n",
              "dtype: int64"
            ]
          },
          "execution_count": 11,
          "metadata": {},
          "output_type": "execute_result"
        }
      ],
      "source": [
        "raw_data.isnull().sum()"
      ]
    },
    {
      "cell_type": "code",
      "execution_count": null,
      "metadata": {
        "id": "_lqU846FzV-8",
        "outputId": "f66394fd-43ab-432c-e135-67c014aaff6a"
      },
      "outputs": [
        {
          "name": "stdout",
          "output_type": "stream",
          "text": [
            "<class 'pandas.core.frame.DataFrame'>\n",
            "RangeIndex: 10000 entries, 0 to 9999\n",
            "Data columns (total 14 columns):\n",
            " #   Column            Non-Null Count  Dtype  \n",
            "---  ------            --------------  -----  \n",
            " 0   row_number        10000 non-null  int64  \n",
            " 1   customer_id       10000 non-null  int64  \n",
            " 2   surname           10000 non-null  object \n",
            " 3   credit_score      10000 non-null  int64  \n",
            " 4   geography         10000 non-null  object \n",
            " 5   gender            10000 non-null  object \n",
            " 6   age               10000 non-null  int64  \n",
            " 7   tenure            10000 non-null  float64\n",
            " 8   balance           10000 non-null  float64\n",
            " 9   num_of_products   10000 non-null  int64  \n",
            " 10  has_cr_card       10000 non-null  int64  \n",
            " 11  is_active_member  10000 non-null  int64  \n",
            " 12  estimated_salary  10000 non-null  float64\n",
            " 13  exited            10000 non-null  int64  \n",
            "dtypes: float64(3), int64(8), object(3)\n",
            "memory usage: 1.1+ MB\n"
          ]
        }
      ],
      "source": [
        "raw_data.info()"
      ]
    },
    {
      "cell_type": "markdown",
      "metadata": {
        "id": "dWDSyFL4zV-9"
      },
      "source": [
        "**Conclusión**: Se detectó un número bastante significativo de valores nulos en la columna tenure, que fueron reemplazados con la mediana para no sesgar el modelo. Esta es una práctica sólida cuando se trabaja con variables numéricas que contienen datos faltantes y se busca mantener la estabilidad de los datos."
      ]
    },
    {
      "cell_type": "markdown",
      "metadata": {
        "id": "FvXmsVaLzV-9"
      },
      "source": [
        "### Codificación de variables categóricas"
      ]
    },
    {
      "cell_type": "code",
      "execution_count": null,
      "metadata": {
        "id": "ylFnDbtGzV-9"
      },
      "outputs": [],
      "source": [
        "# creación de un dataframe para visualizar los tipos de datos\n",
        "dtypes = pd.DataFrame(\n",
        "                    raw_data.dtypes,\n",
        "                    columns=['dtype']\n",
        "                    )"
      ]
    },
    {
      "cell_type": "code",
      "execution_count": null,
      "metadata": {
        "id": "0zAquu4ZzV--",
        "outputId": "7af39a04-6073-412b-bb78-18e35d8e2730"
      },
      "outputs": [
        {
          "data": {
            "text/html": [
              "<div>\n",
              "<style scoped>\n",
              "    .dataframe tbody tr th:only-of-type {\n",
              "        vertical-align: middle;\n",
              "    }\n",
              "\n",
              "    .dataframe tbody tr th {\n",
              "        vertical-align: top;\n",
              "    }\n",
              "\n",
              "    .dataframe thead th {\n",
              "        text-align: right;\n",
              "    }\n",
              "</style>\n",
              "<table border=\"1\" class=\"dataframe\">\n",
              "  <thead>\n",
              "    <tr style=\"text-align: right;\">\n",
              "      <th></th>\n",
              "      <th>dtype</th>\n",
              "    </tr>\n",
              "  </thead>\n",
              "  <tbody>\n",
              "    <tr>\n",
              "      <th>row_number</th>\n",
              "      <td>int64</td>\n",
              "    </tr>\n",
              "    <tr>\n",
              "      <th>customer_id</th>\n",
              "      <td>int64</td>\n",
              "    </tr>\n",
              "    <tr>\n",
              "      <th>surname</th>\n",
              "      <td>object</td>\n",
              "    </tr>\n",
              "    <tr>\n",
              "      <th>credit_score</th>\n",
              "      <td>int64</td>\n",
              "    </tr>\n",
              "    <tr>\n",
              "      <th>geography</th>\n",
              "      <td>object</td>\n",
              "    </tr>\n",
              "    <tr>\n",
              "      <th>gender</th>\n",
              "      <td>object</td>\n",
              "    </tr>\n",
              "    <tr>\n",
              "      <th>age</th>\n",
              "      <td>int64</td>\n",
              "    </tr>\n",
              "    <tr>\n",
              "      <th>tenure</th>\n",
              "      <td>float64</td>\n",
              "    </tr>\n",
              "    <tr>\n",
              "      <th>balance</th>\n",
              "      <td>float64</td>\n",
              "    </tr>\n",
              "    <tr>\n",
              "      <th>num_of_products</th>\n",
              "      <td>int64</td>\n",
              "    </tr>\n",
              "    <tr>\n",
              "      <th>has_cr_card</th>\n",
              "      <td>int64</td>\n",
              "    </tr>\n",
              "    <tr>\n",
              "      <th>is_active_member</th>\n",
              "      <td>int64</td>\n",
              "    </tr>\n",
              "    <tr>\n",
              "      <th>estimated_salary</th>\n",
              "      <td>float64</td>\n",
              "    </tr>\n",
              "    <tr>\n",
              "      <th>exited</th>\n",
              "      <td>int64</td>\n",
              "    </tr>\n",
              "  </tbody>\n",
              "</table>\n",
              "</div>"
            ],
            "text/plain": [
              "                    dtype\n",
              "row_number          int64\n",
              "customer_id         int64\n",
              "surname            object\n",
              "credit_score        int64\n",
              "geography          object\n",
              "gender             object\n",
              "age                 int64\n",
              "tenure            float64\n",
              "balance           float64\n",
              "num_of_products     int64\n",
              "has_cr_card         int64\n",
              "is_active_member    int64\n",
              "estimated_salary  float64\n",
              "exited              int64"
            ]
          },
          "execution_count": 14,
          "metadata": {},
          "output_type": "execute_result"
        }
      ],
      "source": [
        "dtypes"
      ]
    },
    {
      "cell_type": "markdown",
      "metadata": {
        "id": "p-h08ohtzV--"
      },
      "source": [
        "#### Automatización del proceso para identificar variables categóricas y numéricas"
      ]
    },
    {
      "cell_type": "code",
      "execution_count": null,
      "metadata": {
        "id": "D02GetwIzV--"
      },
      "outputs": [],
      "source": [
        "variables_categoricas = list(dtypes[dtypes['dtype'] == 'object'].index)[1:]"
      ]
    },
    {
      "cell_type": "code",
      "execution_count": null,
      "metadata": {
        "id": "f4l8woHgzV-_",
        "outputId": "f2f43038-6c1d-4f81-a405-391170111866"
      },
      "outputs": [
        {
          "data": {
            "text/plain": [
              "['geography', 'gender']"
            ]
          },
          "execution_count": 16,
          "metadata": {},
          "output_type": "execute_result"
        }
      ],
      "source": [
        "variables_categoricas"
      ]
    },
    {
      "cell_type": "code",
      "execution_count": null,
      "metadata": {
        "id": "KZNNF5qyzV_A"
      },
      "outputs": [],
      "source": [
        "variables_numericas = list(dtypes[dtypes['dtype'] != 'object'].index)[2:-1]"
      ]
    },
    {
      "cell_type": "code",
      "execution_count": null,
      "metadata": {
        "id": "KtQMUo4EzV_A",
        "outputId": "3164fd80-55bc-4d2c-c409-8114e2dd3ff2"
      },
      "outputs": [
        {
          "data": {
            "text/plain": [
              "['credit_score',\n",
              " 'age',\n",
              " 'tenure',\n",
              " 'balance',\n",
              " 'num_of_products',\n",
              " 'has_cr_card',\n",
              " 'is_active_member',\n",
              " 'estimated_salary']"
            ]
          },
          "execution_count": 18,
          "metadata": {},
          "output_type": "execute_result"
        }
      ],
      "source": [
        "variables_numericas"
      ]
    },
    {
      "cell_type": "code",
      "execution_count": null,
      "metadata": {
        "id": "ZfJfyMidzV_B"
      },
      "outputs": [],
      "source": [
        "# estas variables no nos aportan mucho valor para modelar nuestro modelo, así que las apartamos\n",
        "variables_no_informativas = ['surname', 'row_number', 'customer_id']"
      ]
    },
    {
      "cell_type": "code",
      "execution_count": null,
      "metadata": {
        "id": "oy0uqAxvzV_B"
      },
      "outputs": [],
      "source": [
        "# creamos el dataset limpio\n",
        "preprocessed_data = raw_data.drop(variables_no_informativas, axis=1)"
      ]
    },
    {
      "cell_type": "code",
      "execution_count": null,
      "metadata": {
        "id": "kUont2RezV_C",
        "outputId": "be0b2916-fefe-4a2f-d9c7-9c085c1cb1b1"
      },
      "outputs": [
        {
          "data": {
            "text/html": [
              "<div>\n",
              "<style scoped>\n",
              "    .dataframe tbody tr th:only-of-type {\n",
              "        vertical-align: middle;\n",
              "    }\n",
              "\n",
              "    .dataframe tbody tr th {\n",
              "        vertical-align: top;\n",
              "    }\n",
              "\n",
              "    .dataframe thead th {\n",
              "        text-align: right;\n",
              "    }\n",
              "</style>\n",
              "<table border=\"1\" class=\"dataframe\">\n",
              "  <thead>\n",
              "    <tr style=\"text-align: right;\">\n",
              "      <th></th>\n",
              "      <th>credit_score</th>\n",
              "      <th>geography</th>\n",
              "      <th>gender</th>\n",
              "      <th>age</th>\n",
              "      <th>tenure</th>\n",
              "      <th>balance</th>\n",
              "      <th>num_of_products</th>\n",
              "      <th>has_cr_card</th>\n",
              "      <th>is_active_member</th>\n",
              "      <th>estimated_salary</th>\n",
              "      <th>exited</th>\n",
              "    </tr>\n",
              "  </thead>\n",
              "  <tbody>\n",
              "    <tr>\n",
              "      <th>0</th>\n",
              "      <td>619</td>\n",
              "      <td>France</td>\n",
              "      <td>Female</td>\n",
              "      <td>42</td>\n",
              "      <td>2.0</td>\n",
              "      <td>0.00</td>\n",
              "      <td>1</td>\n",
              "      <td>1</td>\n",
              "      <td>1</td>\n",
              "      <td>101348.88</td>\n",
              "      <td>1</td>\n",
              "    </tr>\n",
              "    <tr>\n",
              "      <th>1</th>\n",
              "      <td>608</td>\n",
              "      <td>Spain</td>\n",
              "      <td>Female</td>\n",
              "      <td>41</td>\n",
              "      <td>1.0</td>\n",
              "      <td>83807.86</td>\n",
              "      <td>1</td>\n",
              "      <td>0</td>\n",
              "      <td>1</td>\n",
              "      <td>112542.58</td>\n",
              "      <td>0</td>\n",
              "    </tr>\n",
              "    <tr>\n",
              "      <th>2</th>\n",
              "      <td>502</td>\n",
              "      <td>France</td>\n",
              "      <td>Female</td>\n",
              "      <td>42</td>\n",
              "      <td>8.0</td>\n",
              "      <td>159660.80</td>\n",
              "      <td>3</td>\n",
              "      <td>1</td>\n",
              "      <td>0</td>\n",
              "      <td>113931.57</td>\n",
              "      <td>1</td>\n",
              "    </tr>\n",
              "    <tr>\n",
              "      <th>3</th>\n",
              "      <td>699</td>\n",
              "      <td>France</td>\n",
              "      <td>Female</td>\n",
              "      <td>39</td>\n",
              "      <td>1.0</td>\n",
              "      <td>0.00</td>\n",
              "      <td>2</td>\n",
              "      <td>0</td>\n",
              "      <td>0</td>\n",
              "      <td>93826.63</td>\n",
              "      <td>0</td>\n",
              "    </tr>\n",
              "    <tr>\n",
              "      <th>4</th>\n",
              "      <td>850</td>\n",
              "      <td>Spain</td>\n",
              "      <td>Female</td>\n",
              "      <td>43</td>\n",
              "      <td>2.0</td>\n",
              "      <td>125510.82</td>\n",
              "      <td>1</td>\n",
              "      <td>1</td>\n",
              "      <td>1</td>\n",
              "      <td>79084.10</td>\n",
              "      <td>0</td>\n",
              "    </tr>\n",
              "    <tr>\n",
              "      <th>...</th>\n",
              "      <td>...</td>\n",
              "      <td>...</td>\n",
              "      <td>...</td>\n",
              "      <td>...</td>\n",
              "      <td>...</td>\n",
              "      <td>...</td>\n",
              "      <td>...</td>\n",
              "      <td>...</td>\n",
              "      <td>...</td>\n",
              "      <td>...</td>\n",
              "      <td>...</td>\n",
              "    </tr>\n",
              "    <tr>\n",
              "      <th>9995</th>\n",
              "      <td>771</td>\n",
              "      <td>France</td>\n",
              "      <td>Male</td>\n",
              "      <td>39</td>\n",
              "      <td>5.0</td>\n",
              "      <td>0.00</td>\n",
              "      <td>2</td>\n",
              "      <td>1</td>\n",
              "      <td>0</td>\n",
              "      <td>96270.64</td>\n",
              "      <td>0</td>\n",
              "    </tr>\n",
              "    <tr>\n",
              "      <th>9996</th>\n",
              "      <td>516</td>\n",
              "      <td>France</td>\n",
              "      <td>Male</td>\n",
              "      <td>35</td>\n",
              "      <td>10.0</td>\n",
              "      <td>57369.61</td>\n",
              "      <td>1</td>\n",
              "      <td>1</td>\n",
              "      <td>1</td>\n",
              "      <td>101699.77</td>\n",
              "      <td>0</td>\n",
              "    </tr>\n",
              "    <tr>\n",
              "      <th>9997</th>\n",
              "      <td>709</td>\n",
              "      <td>France</td>\n",
              "      <td>Female</td>\n",
              "      <td>36</td>\n",
              "      <td>7.0</td>\n",
              "      <td>0.00</td>\n",
              "      <td>1</td>\n",
              "      <td>0</td>\n",
              "      <td>1</td>\n",
              "      <td>42085.58</td>\n",
              "      <td>1</td>\n",
              "    </tr>\n",
              "    <tr>\n",
              "      <th>9998</th>\n",
              "      <td>772</td>\n",
              "      <td>Germany</td>\n",
              "      <td>Male</td>\n",
              "      <td>42</td>\n",
              "      <td>3.0</td>\n",
              "      <td>75075.31</td>\n",
              "      <td>2</td>\n",
              "      <td>1</td>\n",
              "      <td>0</td>\n",
              "      <td>92888.52</td>\n",
              "      <td>1</td>\n",
              "    </tr>\n",
              "    <tr>\n",
              "      <th>9999</th>\n",
              "      <td>792</td>\n",
              "      <td>France</td>\n",
              "      <td>Female</td>\n",
              "      <td>28</td>\n",
              "      <td>5.0</td>\n",
              "      <td>130142.79</td>\n",
              "      <td>1</td>\n",
              "      <td>1</td>\n",
              "      <td>0</td>\n",
              "      <td>38190.78</td>\n",
              "      <td>0</td>\n",
              "    </tr>\n",
              "  </tbody>\n",
              "</table>\n",
              "<p>10000 rows × 11 columns</p>\n",
              "</div>"
            ],
            "text/plain": [
              "      credit_score geography  gender  age  tenure    balance  num_of_products  \\\n",
              "0              619    France  Female   42     2.0       0.00                1   \n",
              "1              608     Spain  Female   41     1.0   83807.86                1   \n",
              "2              502    France  Female   42     8.0  159660.80                3   \n",
              "3              699    France  Female   39     1.0       0.00                2   \n",
              "4              850     Spain  Female   43     2.0  125510.82                1   \n",
              "...            ...       ...     ...  ...     ...        ...              ...   \n",
              "9995           771    France    Male   39     5.0       0.00                2   \n",
              "9996           516    France    Male   35    10.0   57369.61                1   \n",
              "9997           709    France  Female   36     7.0       0.00                1   \n",
              "9998           772   Germany    Male   42     3.0   75075.31                2   \n",
              "9999           792    France  Female   28     5.0  130142.79                1   \n",
              "\n",
              "      has_cr_card  is_active_member  estimated_salary  exited  \n",
              "0               1                 1         101348.88       1  \n",
              "1               0                 1         112542.58       0  \n",
              "2               1                 0         113931.57       1  \n",
              "3               0                 0          93826.63       0  \n",
              "4               1                 1          79084.10       0  \n",
              "...           ...               ...               ...     ...  \n",
              "9995            1                 0          96270.64       0  \n",
              "9996            1                 1         101699.77       0  \n",
              "9997            0                 1          42085.58       1  \n",
              "9998            1                 0          92888.52       1  \n",
              "9999            1                 0          38190.78       0  \n",
              "\n",
              "[10000 rows x 11 columns]"
            ]
          },
          "execution_count": 21,
          "metadata": {},
          "output_type": "execute_result"
        }
      ],
      "source": [
        "preprocessed_data"
      ]
    },
    {
      "cell_type": "markdown",
      "metadata": {
        "id": "2hhlakvnzV_D"
      },
      "source": [
        "#### One-Hot Encoding"
      ]
    },
    {
      "cell_type": "code",
      "execution_count": null,
      "metadata": {
        "id": "RugrI11fzV_D"
      },
      "outputs": [],
      "source": [
        "data_for_model = pd.get_dummies(\n",
        "                                preprocessed_data,\n",
        "                                drop_first=True,\n",
        "                                columns=variables_categoricas\n",
        "                                )"
      ]
    },
    {
      "cell_type": "code",
      "execution_count": null,
      "metadata": {
        "id": "W_MLgntYzV_D",
        "outputId": "80fd745c-328d-46a0-cfa1-93974197085c"
      },
      "outputs": [
        {
          "data": {
            "text/html": [
              "<div>\n",
              "<style scoped>\n",
              "    .dataframe tbody tr th:only-of-type {\n",
              "        vertical-align: middle;\n",
              "    }\n",
              "\n",
              "    .dataframe tbody tr th {\n",
              "        vertical-align: top;\n",
              "    }\n",
              "\n",
              "    .dataframe thead th {\n",
              "        text-align: right;\n",
              "    }\n",
              "</style>\n",
              "<table border=\"1\" class=\"dataframe\">\n",
              "  <thead>\n",
              "    <tr style=\"text-align: right;\">\n",
              "      <th></th>\n",
              "      <th>credit_score</th>\n",
              "      <th>age</th>\n",
              "      <th>tenure</th>\n",
              "      <th>balance</th>\n",
              "      <th>num_of_products</th>\n",
              "      <th>has_cr_card</th>\n",
              "      <th>is_active_member</th>\n",
              "      <th>estimated_salary</th>\n",
              "      <th>exited</th>\n",
              "      <th>geography_Germany</th>\n",
              "      <th>geography_Spain</th>\n",
              "      <th>gender_Male</th>\n",
              "    </tr>\n",
              "  </thead>\n",
              "  <tbody>\n",
              "    <tr>\n",
              "      <th>0</th>\n",
              "      <td>619</td>\n",
              "      <td>42</td>\n",
              "      <td>2.0</td>\n",
              "      <td>0.00</td>\n",
              "      <td>1</td>\n",
              "      <td>1</td>\n",
              "      <td>1</td>\n",
              "      <td>101348.88</td>\n",
              "      <td>1</td>\n",
              "      <td>0</td>\n",
              "      <td>0</td>\n",
              "      <td>0</td>\n",
              "    </tr>\n",
              "    <tr>\n",
              "      <th>1</th>\n",
              "      <td>608</td>\n",
              "      <td>41</td>\n",
              "      <td>1.0</td>\n",
              "      <td>83807.86</td>\n",
              "      <td>1</td>\n",
              "      <td>0</td>\n",
              "      <td>1</td>\n",
              "      <td>112542.58</td>\n",
              "      <td>0</td>\n",
              "      <td>0</td>\n",
              "      <td>1</td>\n",
              "      <td>0</td>\n",
              "    </tr>\n",
              "    <tr>\n",
              "      <th>2</th>\n",
              "      <td>502</td>\n",
              "      <td>42</td>\n",
              "      <td>8.0</td>\n",
              "      <td>159660.80</td>\n",
              "      <td>3</td>\n",
              "      <td>1</td>\n",
              "      <td>0</td>\n",
              "      <td>113931.57</td>\n",
              "      <td>1</td>\n",
              "      <td>0</td>\n",
              "      <td>0</td>\n",
              "      <td>0</td>\n",
              "    </tr>\n",
              "    <tr>\n",
              "      <th>3</th>\n",
              "      <td>699</td>\n",
              "      <td>39</td>\n",
              "      <td>1.0</td>\n",
              "      <td>0.00</td>\n",
              "      <td>2</td>\n",
              "      <td>0</td>\n",
              "      <td>0</td>\n",
              "      <td>93826.63</td>\n",
              "      <td>0</td>\n",
              "      <td>0</td>\n",
              "      <td>0</td>\n",
              "      <td>0</td>\n",
              "    </tr>\n",
              "    <tr>\n",
              "      <th>4</th>\n",
              "      <td>850</td>\n",
              "      <td>43</td>\n",
              "      <td>2.0</td>\n",
              "      <td>125510.82</td>\n",
              "      <td>1</td>\n",
              "      <td>1</td>\n",
              "      <td>1</td>\n",
              "      <td>79084.10</td>\n",
              "      <td>0</td>\n",
              "      <td>0</td>\n",
              "      <td>1</td>\n",
              "      <td>0</td>\n",
              "    </tr>\n",
              "    <tr>\n",
              "      <th>...</th>\n",
              "      <td>...</td>\n",
              "      <td>...</td>\n",
              "      <td>...</td>\n",
              "      <td>...</td>\n",
              "      <td>...</td>\n",
              "      <td>...</td>\n",
              "      <td>...</td>\n",
              "      <td>...</td>\n",
              "      <td>...</td>\n",
              "      <td>...</td>\n",
              "      <td>...</td>\n",
              "      <td>...</td>\n",
              "    </tr>\n",
              "    <tr>\n",
              "      <th>9995</th>\n",
              "      <td>771</td>\n",
              "      <td>39</td>\n",
              "      <td>5.0</td>\n",
              "      <td>0.00</td>\n",
              "      <td>2</td>\n",
              "      <td>1</td>\n",
              "      <td>0</td>\n",
              "      <td>96270.64</td>\n",
              "      <td>0</td>\n",
              "      <td>0</td>\n",
              "      <td>0</td>\n",
              "      <td>1</td>\n",
              "    </tr>\n",
              "    <tr>\n",
              "      <th>9996</th>\n",
              "      <td>516</td>\n",
              "      <td>35</td>\n",
              "      <td>10.0</td>\n",
              "      <td>57369.61</td>\n",
              "      <td>1</td>\n",
              "      <td>1</td>\n",
              "      <td>1</td>\n",
              "      <td>101699.77</td>\n",
              "      <td>0</td>\n",
              "      <td>0</td>\n",
              "      <td>0</td>\n",
              "      <td>1</td>\n",
              "    </tr>\n",
              "    <tr>\n",
              "      <th>9997</th>\n",
              "      <td>709</td>\n",
              "      <td>36</td>\n",
              "      <td>7.0</td>\n",
              "      <td>0.00</td>\n",
              "      <td>1</td>\n",
              "      <td>0</td>\n",
              "      <td>1</td>\n",
              "      <td>42085.58</td>\n",
              "      <td>1</td>\n",
              "      <td>0</td>\n",
              "      <td>0</td>\n",
              "      <td>0</td>\n",
              "    </tr>\n",
              "    <tr>\n",
              "      <th>9998</th>\n",
              "      <td>772</td>\n",
              "      <td>42</td>\n",
              "      <td>3.0</td>\n",
              "      <td>75075.31</td>\n",
              "      <td>2</td>\n",
              "      <td>1</td>\n",
              "      <td>0</td>\n",
              "      <td>92888.52</td>\n",
              "      <td>1</td>\n",
              "      <td>1</td>\n",
              "      <td>0</td>\n",
              "      <td>1</td>\n",
              "    </tr>\n",
              "    <tr>\n",
              "      <th>9999</th>\n",
              "      <td>792</td>\n",
              "      <td>28</td>\n",
              "      <td>5.0</td>\n",
              "      <td>130142.79</td>\n",
              "      <td>1</td>\n",
              "      <td>1</td>\n",
              "      <td>0</td>\n",
              "      <td>38190.78</td>\n",
              "      <td>0</td>\n",
              "      <td>0</td>\n",
              "      <td>0</td>\n",
              "      <td>0</td>\n",
              "    </tr>\n",
              "  </tbody>\n",
              "</table>\n",
              "<p>10000 rows × 12 columns</p>\n",
              "</div>"
            ],
            "text/plain": [
              "      credit_score  age  tenure    balance  num_of_products  has_cr_card  \\\n",
              "0              619   42     2.0       0.00                1            1   \n",
              "1              608   41     1.0   83807.86                1            0   \n",
              "2              502   42     8.0  159660.80                3            1   \n",
              "3              699   39     1.0       0.00                2            0   \n",
              "4              850   43     2.0  125510.82                1            1   \n",
              "...            ...  ...     ...        ...              ...          ...   \n",
              "9995           771   39     5.0       0.00                2            1   \n",
              "9996           516   35    10.0   57369.61                1            1   \n",
              "9997           709   36     7.0       0.00                1            0   \n",
              "9998           772   42     3.0   75075.31                2            1   \n",
              "9999           792   28     5.0  130142.79                1            1   \n",
              "\n",
              "      is_active_member  estimated_salary  exited  geography_Germany  \\\n",
              "0                    1         101348.88       1                  0   \n",
              "1                    1         112542.58       0                  0   \n",
              "2                    0         113931.57       1                  0   \n",
              "3                    0          93826.63       0                  0   \n",
              "4                    1          79084.10       0                  0   \n",
              "...                ...               ...     ...                ...   \n",
              "9995                 0          96270.64       0                  0   \n",
              "9996                 1         101699.77       0                  0   \n",
              "9997                 1          42085.58       1                  0   \n",
              "9998                 0          92888.52       1                  1   \n",
              "9999                 0          38190.78       0                  0   \n",
              "\n",
              "      geography_Spain  gender_Male  \n",
              "0                   0            0  \n",
              "1                   1            0  \n",
              "2                   0            0  \n",
              "3                   0            0  \n",
              "4                   1            0  \n",
              "...               ...          ...  \n",
              "9995                0            1  \n",
              "9996                0            1  \n",
              "9997                0            0  \n",
              "9998                0            1  \n",
              "9999                0            0  \n",
              "\n",
              "[10000 rows x 12 columns]"
            ]
          },
          "execution_count": 23,
          "metadata": {},
          "output_type": "execute_result"
        }
      ],
      "source": [
        "data_for_model # datasat a usar de ahora en adelante"
      ]
    },
    {
      "cell_type": "markdown",
      "metadata": {
        "id": "j47FOyDSzV_N"
      },
      "source": [
        "**Conclusión**: Se aplicó correctamente la codificación One-Hot Encoding a las variables categóricas como `geography` y `gender`. Permitiendo que el modelo las procesara como variables numéricas sin introducir un orden que no existe en los datos categóricos."
      ]
    },
    {
      "cell_type": "markdown",
      "metadata": {
        "id": "J3p3A_9RzV_O"
      },
      "source": [
        "---\n",
        "## Segmentación del conjunto de datos\n",
        "- **Entrenamiento** -> para entrenar el modelo\n",
        "    - Entrenamos varios modelos con este conjunto\n",
        "- **Validación** -> para tunear los modelos, irlos mejorando poco a poco\n",
        "    - e.g: árbol de decisión y la profundidad. Cuál es la mejor profundidad para este algoritmo y cuántas ramas necesita.\n",
        "    - e.g: RandomForest y tuneamos la cantidad de árboles. Cuál cantidad de árboles es la mejor.\n",
        "    - e.g: Regresión logística\n",
        "- **Prueba** -> para ver cuál es el mejor de mis modelos tuneados\n",
        "\n",
        "Separaremos el set de datos en entrenamiento-validación y prueba - 20%\n",
        "Luego el de entrenamiento-validación en entrenamiento y validación"
      ]
    },
    {
      "cell_type": "code",
      "execution_count": null,
      "metadata": {
        "id": "3UiaG7ltzV_P"
      },
      "outputs": [],
      "source": [
        "# 80% entrenamiento-validación y 20% prueba\n",
        "# separamos conjuntos de datos de entrenamiento-validación y de prueba\n",
        "df_train_valid, df_test = train_test_split(data_for_model,\n",
        "                                           test_size=.20,\n",
        "                                           random_state=12345\n",
        "                                          )\n",
        "\n",
        "\n",
        "# 75% entrenamiento-validación y 25% prueba\n",
        "# separamos el conjunto de entrenamiento en entrenamimento y validación.\n",
        "df_train, df_valid = train_test_split(df_train_valid,\n",
        "                                      test_size=.25,\n",
        "                                      random_state=12345\n",
        "                                     )"
      ]
    },
    {
      "cell_type": "code",
      "execution_count": null,
      "metadata": {
        "id": "Q-ZTUZnZzV_P"
      },
      "outputs": [],
      "source": [
        "# entrenamiento\n",
        "features_train = df_train.drop(['exited'], axis=1)\n",
        "target_train = df_train['exited']\n",
        "\n",
        "# validación\n",
        "features_valid = df_valid.drop(['exited'], axis=1)\n",
        "target_valid = df_valid['exited']\n",
        "\n",
        "# prueba\n",
        "features_test = df_test.drop(['exited'], axis=1)\n",
        "target_test = df_test['exited']"
      ]
    },
    {
      "cell_type": "code",
      "execution_count": null,
      "metadata": {
        "id": "nNR1qi6yzV_Q",
        "outputId": "bc5e5f2f-35ec-4bf4-97e2-57c2ad17b490"
      },
      "outputs": [
        {
          "name": "stdout",
          "output_type": "stream",
          "text": [
            "(6000, 11)\n",
            "(2000, 11)\n",
            "(2000, 11)\n"
          ]
        }
      ],
      "source": [
        "# verificamos si las caracteríticas tienen la misma cantidad de columnas\n",
        "print(features_train.shape)\n",
        "print(features_valid.shape)\n",
        "print(features_test.shape)"
      ]
    },
    {
      "cell_type": "markdown",
      "metadata": {
        "id": "IR5Qqd2qzV_Q"
      },
      "source": [
        "**Conclusión**: La división de los datos en conjuntos de entrenamiento (80%), validación (20%) y prueba se realizó de manera adecuada, permitiendo que los datos se utilicen en tres etapas: para entrenar el modelo, ajustar sus hiperparámetros y, finalmente, para realizar la evaluación final en el conjunto de prueba"
      ]
    },
    {
      "cell_type": "markdown",
      "metadata": {
        "id": "rW3xvj1_zV_R"
      },
      "source": [
        "### Escalado de características"
      ]
    },
    {
      "cell_type": "code",
      "execution_count": null,
      "metadata": {
        "id": "mrnLiinBzV_S",
        "outputId": "502c9499-0acd-4fe5-a1e5-346756916866"
      },
      "outputs": [
        {
          "name": "stdout",
          "output_type": "stream",
          "text": [
            "(6000, 11)\n",
            "(2000, 11)\n",
            "(2000, 11)\n"
          ]
        }
      ],
      "source": [
        "# escalamos las características\n",
        "scaler = StandardScaler()\n",
        "scaler.fit(features_train[variables_numericas])\n",
        "\n",
        "features_train[variables_numericas] = scaler.transform(features_train[variables_numericas])\n",
        "features_valid[variables_numericas] = scaler.transform(features_valid[variables_numericas])\n",
        "features_test[['credit_score', 'age', 'tenure', 'balance', 'num_of_products', 'has_cr_card', 'is_active_member', 'estimated_salary']] = scaler.transform(features_test[['credit_score', 'age', 'tenure', 'balance', 'num_of_products', 'has_cr_card', 'is_active_member', 'estimated_salary']])\n",
        "\n",
        "\n",
        "print(features_train.shape)\n",
        "print(features_valid.shape)\n",
        "print(features_test.shape)"
      ]
    },
    {
      "cell_type": "markdown",
      "metadata": {
        "id": "kMjA3zByzV_T"
      },
      "source": [
        "**Conclusión**: El escalado de las características numéricas fue un paso importante, especialmente para la regresión logística, que es sensible a las diferencias en la escala de las características. Esto aseguró que todas las variables numéricas fueran tratadas en la misma escala, mejorando la capacidad del modelo para converger."
      ]
    },
    {
      "cell_type": "markdown",
      "metadata": {
        "id": "V3cqDVmGzV_T"
      },
      "source": [
        "---\n",
        "## Análisis del Desequilibrio de clases I\n",
        "Nos enfocaremos en garantizar que el modelo no esté sesgado hacia una clase en particular."
      ]
    },
    {
      "cell_type": "markdown",
      "metadata": {
        "id": "FP7s0tfmzV_U"
      },
      "source": [
        "### Distribución de las clases en el conjunto de entrenamiento"
      ]
    },
    {
      "cell_type": "code",
      "execution_count": null,
      "metadata": {
        "id": "tf35uWsxzV_U",
        "outputId": "27ca01a7-7314-4bb9-ab02-a3250d865437"
      },
      "outputs": [
        {
          "name": "stdout",
          "output_type": "stream",
          "text": [
            "0    4781\n",
            "1    1219\n",
            "Name: exited, dtype: int64\n"
          ]
        },
        {
          "data": {
            "image/png": "[encoded data removed]",
            "text/plain": [
              "<Figure size 800x600 with 1 Axes>"
            ]
          },
          "metadata": {},
          "output_type": "display_data"
        }
      ],
      "source": [
        "# examinar el equilibrio de clases\n",
        "class_counts = target_train.value_counts()\n",
        "print(class_counts)\n",
        "\n",
        "\n",
        "plt.figure(figsize=(8, 6))\n",
        "sns.countplot(target_train, palette='Set2')\n",
        "plt.title('Distribución de las clases en el conjunto de entrenamiento', fontsize=15)\n",
        "plt.show()"
      ]
    },
    {
      "cell_type": "markdown",
      "metadata": {
        "id": "wBaNySwPzV_W"
      },
      "source": [
        "El análisis de la distribución de las clases muestra un fuerte desequilibrio, con una mayor cantidad de clientes que no se fueron del banco (clase 0) en comparación con los que sí se fueron (clase 1). Sin embargo, como pide en las instrucciones de este proyecto, se hará un estudio **sin tomar en cuenta el desequilibrio en las clases**.\n",
        "\n",
        "Se entrenarán tres modelos:\n",
        "- un árbol de decisión\n",
        "- un bosque aleatorio\n",
        "- una regresión logística\n",
        "\n",
        "Los compararemos usando la métrica F1\n",
        "\n",
        "### Decision Tree Model"
      ]
    },
    {
      "cell_type": "markdown",
      "metadata": {
        "id": "oPlSyZnPzV_W"
      },
      "source": [
        "#### Analizando la mejor profundidad"
      ]
    },
    {
      "cell_type": "code",
      "execution_count": null,
      "metadata": {
        "id": "p7eFeu_IzV_X",
        "outputId": "d4ae2b0a-0f0a-4983-ae45-189c2ca0c6d0"
      },
      "outputs": [
        {
          "name": "stdout",
          "output_type": "stream",
          "text": [
            "Profundidad del árbol: 1\n",
            "Valor F1 Conjunto de validación: 0.0\n",
            "\n",
            "Profundidad del árbol: 2\n",
            "Valor F1 Conjunto de validación: 0.5037037037037037\n",
            "\n",
            "Profundidad del árbol: 3\n",
            "Valor F1 Conjunto de validación: 0.39382239382239387\n",
            "\n",
            "Profundidad del árbol: 4\n",
            "Valor F1 Conjunto de validación: 0.430188679245283\n",
            "\n",
            "Profundidad del árbol: 5\n",
            "Valor F1 Conjunto de validación: 0.5488372093023256\n",
            "\n",
            "Profundidad del árbol: 6\n",
            "Valor F1 Conjunto de validación: 0.5113043478260869\n",
            "\n",
            "Profundidad del árbol: 7\n",
            "Valor F1 Conjunto de validación: 0.5583596214511041\n",
            "\n",
            "Profundidad del árbol: 8\n",
            "Valor F1 Conjunto de validación: 0.5398773006134968\n",
            "\n",
            "Profundidad del árbol: 9\n",
            "Valor F1 Conjunto de validación: 0.5357142857142857\n",
            "\n",
            "Profundidad del árbol: 10\n",
            "Valor F1 Conjunto de validación: 0.5383502170767005\n",
            "\n"
          ]
        }
      ],
      "source": [
        "decision_tree_results = [] # lista para guardar los resultados\n",
        "\n",
        "best_depth = 0\n",
        "best_valid_f1 = 0\n",
        "\n",
        "for depth in range(1, 11):\n",
        "    # inicialización del modelo\n",
        "    decision_tree_model = DecisionTreeClassifier(max_depth=depth, random_state=12345)\n",
        "\n",
        "    # entrenamos el modelo\n",
        "    decision_tree_model.fit(features_train, target_train)\n",
        "\n",
        "    # predicciones en el conjunto de validación\n",
        "    predictions_valid_dt = decision_tree_model.predict(features_valid)\n",
        "\n",
        "    # valor f1 del conjunto de validación\n",
        "    valid_f1_dt = f1_score(target_valid, predictions_valid_dt)\n",
        "\n",
        "    # guardamos resultados\n",
        "    decision_tree_results.append((depth, valid_f1_dt))\n",
        "\n",
        "    # Guardar la mejor profundidad\n",
        "    if valid_f1_dt > best_valid_f1:\n",
        "        best_valid_f1 = valid_f1_dt\n",
        "        best_depth = depth\n",
        "\n",
        "    # Muestras en pantalla\n",
        "    print(f\"Profundidad del árbol: {depth}\")\n",
        "    print(f\"Valor F1 Conjunto de validación: {valid_f1_dt}\")\n",
        "    print()"
      ]
    },
    {
      "cell_type": "code",
      "execution_count": null,
      "metadata": {
        "id": "jmQvEzwpzV_Y",
        "outputId": "010ab79d-ccc5-43f3-93f4-92714c5c68d3"
      },
      "outputs": [
        {
          "name": "stdout",
          "output_type": "stream",
          "text": [
            "||| Mejor profundidad: 7 con valor de F1 en validación de: 0.5583596214511041 |||\n"
          ]
        }
      ],
      "source": [
        "print(f\"||| Mejor profundidad: {best_depth} con valor de F1 en validación de: {best_valid_f1} |||\")"
      ]
    },
    {
      "cell_type": "markdown",
      "metadata": {
        "id": "KFb6fb_yzV_Z"
      },
      "source": [
        "### Random Forest Model"
      ]
    },
    {
      "cell_type": "markdown",
      "metadata": {
        "id": "bSyosWStzV_Z"
      },
      "source": [
        "#### El mejor número de estimadores"
      ]
    },
    {
      "cell_type": "code",
      "execution_count": null,
      "metadata": {
        "id": "BlgNl0MhzV_Z",
        "outputId": "fa95e8e7-d5e4-4738-c5f5-72e56f09657a"
      },
      "outputs": [
        {
          "name": "stdout",
          "output_type": "stream",
          "text": [
            "El valor F1 más alto del modelo en el conjunto de validación (n_estimators = 65) fue de: 0.5696400625978091\n"
          ]
        }
      ],
      "source": [
        "random_forest_results =[]\n",
        "\n",
        "# almacenar el mejor puntaje y el mejor número de estimadores\n",
        "best_f1 = 0\n",
        "best_est = 0\n",
        "\n",
        "for est in range(1, 100):\n",
        "\n",
        "    # inicializar el modelo RandomForest con el número de estimadores actual\n",
        "    random_forest_model = RandomForestClassifier(random_state=54321, n_estimators=est)\n",
        "\n",
        "    # se entrena el modelo en el conjunto de entrenamiento\n",
        "    random_forest_model.fit(features_train, target_train)\n",
        "\n",
        "    # evaluar el modelo en el conjunto de validación\n",
        "    predictions_valid_rf = random_forest_model.predict(features_valid)\n",
        "\n",
        "    # valor f1 del conjunto de validación\n",
        "    valid_f1_rf = f1_score(target_valid, predictions_valid_rf)\n",
        "\n",
        "    # si este modelo tiene mejor puntuación en el conjunto de validación, actualizamos\n",
        "    if valid_f1_rf > best_f1:\n",
        "        best_f1 = valid_f1_rf\n",
        "        best_est = est\n",
        "\n",
        "    # guardamos los resultados\n",
        "    random_forest_results.append((est, valid_f1_rf))\n",
        "\n",
        "# muestras en pantalla del mejor número de estimadores y la precisión obtenida en validación\n",
        "print(f\"El valor F1 más alto del modelo en el conjunto de validación (n_estimators = {best_est}) fue de: {best_f1}\")\n"
      ]
    },
    {
      "cell_type": "markdown",
      "metadata": {
        "id": "vojQsw7HzV_a"
      },
      "source": [
        "### Logistic Regression Model"
      ]
    },
    {
      "cell_type": "code",
      "execution_count": null,
      "metadata": {
        "id": "1grsLi0szV_a",
        "outputId": "64ac6e58-7b98-4329-afd3-9000e262b57d"
      },
      "outputs": [
        {
          "name": "stdout",
          "output_type": "stream",
          "text": [
            "El valor F1 de validación para la Regresión Logistica es de un valor de: 0.30131826741996237\n"
          ]
        }
      ],
      "source": [
        "logistic_regression_model = LogisticRegression(random_state=12345, solver='liblinear')\n",
        "\n",
        "# entrenando los datos\n",
        "logistic_regression_model.fit(features_train, target_train)\n",
        "\n",
        "# predicciones sobre validación\n",
        "predictions_valid_lr = logistic_regression_model.predict(features_valid)\n",
        "\n",
        "# f1_score\n",
        "valid_f1_lr = f1_score(target_valid, predictions_valid_lr)\n",
        "print(f'El valor F1 de validación para la Regresión Logistica es de un valor de: {valid_f1_lr}')"
      ]
    },
    {
      "cell_type": "markdown",
      "metadata": {
        "id": "srSVq3RSzV_b"
      },
      "source": [
        "### El mejor modelo"
      ]
    },
    {
      "cell_type": "code",
      "execution_count": null,
      "metadata": {
        "id": "i0i70k7czV_b",
        "outputId": "b26de561-832a-4688-a331-1007f9bece23"
      },
      "outputs": [
        {
          "name": "stdout",
          "output_type": "stream",
          "text": [
            "F1 en conjunto de prueba: 0.5676077265973253\n",
            "AUC-ROC en conjunto de prueba: 0.8577927288806573\n"
          ]
        }
      ],
      "source": [
        "# conjunto de prueba con el mejor modelo\n",
        "pred_test = random_forest_model.predict(features_test)\n",
        "\n",
        "# calcular F1\n",
        "f1_test = f1_score(target_test, pred_test)\n",
        "print(f\"F1 en conjunto de prueba: {f1_test}\")\n",
        "\n",
        "# calculando AUC-ROC\n",
        "prob_test = random_forest_model.predict_proba(features_test)[:, 1]\n",
        "auc_roc_test = roc_auc_score(target_test, prob_test)\n",
        "print(f\"AUC-ROC en conjunto de prueba: {auc_roc_test}\")"
      ]
    },
    {
      "cell_type": "markdown",
      "metadata": {
        "id": "2pw8xayHzV_c"
      },
      "source": [
        "**Conclusión:** Se llegó a la conclusión que si no tenemos en cuenta el desequilibrio de clases, el valor de F1 no llegará a ser mayor que 0.59, que es el valor solicitado de la métrica.\n",
        "\n",
        " Este desequilibrio afectó el rendimiento de los modelos sin ajustes, resultando en un F1-score bajo, lo que llevó a la necesidad de aplicar técnicas de balanceo.\n",
        "\n",
        "Por lo tanto, se continuará con aplicando técnicas para evitar el desequilibrio presentado.\n",
        "\n",
        "---"
      ]
    },
    {
      "cell_type": "markdown",
      "metadata": {
        "id": "UGpc84NKzV_d"
      },
      "source": [
        "## Análisis del desequilibrio de clases II\n",
        "\n",
        "### Ajustando el peso de clase\n",
        "#### LogisticRegression"
      ]
    },
    {
      "cell_type": "code",
      "execution_count": null,
      "metadata": {
        "id": "pFazglxSzV_d",
        "outputId": "74df3f21-ac50-494c-8f62-5e67b2ef6861"
      },
      "outputs": [
        {
          "name": "stdout",
          "output_type": "stream",
          "text": [
            "F1-Score: 0.4750889679715302\n",
            "AUC-ROC RandomForest: 0.7725740281250446\n"
          ]
        }
      ],
      "source": [
        "lr_model = LogisticRegression(class_weight='balanced', random_state=12345, solver='liblinear')\n",
        "\n",
        "lr_model.fit(features_train, target_train)\n",
        "\n",
        "predictions_valid_lr = lr_model.predict(features_valid)\n",
        "\n",
        "# F1-Score en el conjunto de validación\n",
        "f1 = f1_score(target_valid, predictions_valid_lr)\n",
        "print(f'F1-Score: {f1}')\n",
        "probabilities_lr_valid = lr_model.predict_proba(features_valid)[:, 1]\n",
        "auc_roc_lr = roc_auc_score(target_valid, probabilities_lr_valid)\n",
        "print(f'AUC-ROC RandomForest: {auc_roc_lr}')"
      ]
    },
    {
      "cell_type": "markdown",
      "metadata": {
        "id": "5hdVapDSzV_e"
      },
      "source": [
        "#### RandomForest"
      ]
    },
    {
      "cell_type": "code",
      "execution_count": null,
      "metadata": {
        "id": "fZlasM6dzV_e",
        "outputId": "e7457e71-41a6-4b7b-ee6e-a959636453d3"
      },
      "outputs": [
        {
          "name": "stdout",
          "output_type": "stream",
          "text": [
            "F1-Score RandomForest: 0.5904522613065326\n",
            "AUC-ROC RandomForest: 0.8544329451184911\n"
          ]
        }
      ],
      "source": [
        "model_rf = RandomForestClassifier(random_state=12345, n_estimators=100, max_depth=10, class_weight='balanced')\n",
        "model_rf.fit(features_train, target_train)\n",
        "\n",
        "predictions_rf = model_rf.predict(features_valid)\n",
        "\n",
        "# F1-Score\n",
        "f1_rf = f1_score(target_valid, predictions_rf)\n",
        "print(f'F1-Score RandomForest: {f1_rf}')\n",
        "\n",
        "# AUC-ROC\n",
        "probabilities_rf_valid = model_rf.predict_proba(features_valid)[:, 1]\n",
        "auc_roc_rf = roc_auc_score(target_valid, probabilities_rf_valid)\n",
        "print(f'AUC-ROC RandomForest: {auc_roc_rf}')"
      ]
    },
    {
      "cell_type": "markdown",
      "metadata": {
        "id": "2mOVT_qBzV_f"
      },
      "source": [
        "### Comparación Resultados cono solo ajuste de peso de clase"
      ]
    },
    {
      "cell_type": "code",
      "execution_count": null,
      "metadata": {
        "id": "wAivI6UNzV_f",
        "outputId": "a78d6088-b8dd-4856-9a83-8fedfe9ce80e"
      },
      "outputs": [
        {
          "name": "stdout",
          "output_type": "stream",
          "text": [
            "Logistic Regression F1-Score: 0.4750889679715302, AUC-ROC: 0.7725740281250446\n",
            "Random Forest F1-Score: 0.5904522613065326, AUC-ROC: 0.8544329451184911\n"
          ]
        }
      ],
      "source": [
        "print(f'Logistic Regression F1-Score: {f1}, AUC-ROC: {auc_roc_lr}')\n",
        "print(f'Random Forest F1-Score: {f1_rf}, AUC-ROC: {auc_roc_rf}')"
      ]
    },
    {
      "cell_type": "markdown",
      "metadata": {
        "id": "kDMMRDCjzV_g"
      },
      "source": [
        "**Conclusión**: El modelo de Random Forest fue el mejor en cuanto a F1-score (0.590) y AUC-ROC (0.854), demostrando su capacidad para distinguir entre clientes que abandonan el banco y aquellos que no lo hacen. El ajuste del desequilibrio de clases fue fundamental para lograr estos resultados\n",
        "\n",
        "---"
      ]
    },
    {
      "cell_type": "markdown",
      "metadata": {
        "id": "Kze5jfRxzV_g"
      },
      "source": [
        "\n",
        "\n",
        "## Prueba Final con peso de clase\n",
        "**NOTA**: esta prueba se realizó solo con el peso de clases como técnica para equilibrar las clases"
      ]
    },
    {
      "cell_type": "code",
      "execution_count": null,
      "metadata": {
        "id": "kuENFsM_zV_h",
        "outputId": "2c9d8a5b-8765-4ae0-f9b9-d7482967d64d"
      },
      "outputs": [
        {
          "name": "stdout",
          "output_type": "stream",
          "text": [
            "F1-Score en el conjunto de prueba: 0.6425233644859815\n",
            "AUC-ROC en el conjunto de prueba: 0.8673159925022815\n",
            "Comparación - F1: 0.6425233644859815, AUC-ROC: 0.8673159925022815\n"
          ]
        }
      ],
      "source": [
        "predictions_test = model_rf.predict(features_test)\n",
        "\n",
        "# calcular el F1-score en el conjunto de prueba\n",
        "f1_test = f1_score(target_test, predictions_test)\n",
        "print(f'F1-Score en el conjunto de prueba: {f1_test}')\n",
        "\n",
        "# calcular el AUC-ROC en el conjunto de prueba\n",
        "probabilities_test = model_rf.predict_proba(features_test)[:, 1]\n",
        "auc_roc_test = roc_auc_score(target_test, probabilities_test)\n",
        "print(f'AUC-ROC en el conjunto de prueba: {auc_roc_test}')\n",
        "\n",
        "# comparación entre las métricas\n",
        "print(f'Comparación - F1: {f1_test}, AUC-ROC: {auc_roc_test}')"
      ]
    },
    {
      "cell_type": "markdown",
      "metadata": {
        "id": "c71fu_aTzV_i"
      },
      "source": [
        "**Conclusión**: El F1-score obtenido en el conjunto de prueba fue superior al valor mínimo requerido de 0.59, lo que indica que el modelo ha mejorado su capacidad para identificar correctamente a los clientes que abandonan el banco, manteniendo un balance sólido entre precisión y recall.\n",
        "\n",
        "El AUC-ROC de 0.8673 indica que el modelo tiene una muy buena capacidad para distinguir entre clientes que abandonarán el banco y aquellos que no lo harán. El valor de AUC-ROC por encima de 0.85 confirma que el modelo no solo predice correctamente las clases, sino que lo hace de manera robusta a lo largo de diferentes umbrales de decisión.\n",
        "\n",
        "Al comparar ambos resultados:\n",
        "\n",
        "- **F1-Score** refleja un buen balance entre la precisión y recall, lo que es crucial en este problema, ya que ambos son importantes para predecir correctamente a los clientes que se van\n",
        "\n",
        "- **AUC-ROC** ofrece una visión completa de la capacidad del modelo para discriminar entre las dos clases. El valor obtenido muestra que el modelo es altamente competente en la clasificación de clientes.\n",
        "\n",
        "----"
      ]
    },
    {
      "cell_type": "markdown",
      "metadata": {
        "id": "Qh7Vxkn3zV_i"
      },
      "source": [
        "<div class=\"alert alert-block alert-info\">\n",
        "<b>Ajustes luego de la primera iteración. Se entrenaron nuevamente los modelos y se aplicaron técnicas de sobremuestreo y submuestreo</b> <a class=“tocSkip”></a>\n",
        "</div>"
      ]
    },
    {
      "cell_type": "markdown",
      "metadata": {
        "id": "2SAwltsEzV_i"
      },
      "source": [
        "## Análisis del desequilibrio de clases III\n",
        "Oversampling and Undersampling\n",
        "\n",
        "### Sobremuestreo"
      ]
    },
    {
      "cell_type": "code",
      "execution_count": null,
      "metadata": {
        "id": "fib3e3dzzV_j"
      },
      "outputs": [],
      "source": [
        "def upsample(features, target, repeat):\n",
        "    features_zeros = features[target == 0]\n",
        "    features_ones = features[target == 1]\n",
        "    target_zeros = target[target == 0]\n",
        "    target_ones = target[target == 1]\n",
        "\n",
        "    features_upsampled = pd.concat([features_zeros] + [features_ones] * repeat)\n",
        "    target_upsampled = pd.concat([target_zeros] + [target_ones] * repeat)\n",
        "\n",
        "    features_upsampled, target_upsampled = shuffle(\n",
        "        features_upsampled, target_upsampled, random_state=12345\n",
        "    )\n",
        "\n",
        "    return features_upsampled, target_upsampled\n",
        "\n",
        "features_upsampled, target_upsampled = upsample(features_train, target_train, 10)"
      ]
    },
    {
      "cell_type": "markdown",
      "metadata": {
        "id": "d6AuIcw5zV_q"
      },
      "source": [
        "#### Logistic Regression con sobremuestreo"
      ]
    },
    {
      "cell_type": "code",
      "execution_count": null,
      "metadata": {
        "id": "qBRW5P1szV_q",
        "outputId": "99c76cb6-5468-440f-af79-cb2cdf0c7d02"
      },
      "outputs": [
        {
          "name": "stdout",
          "output_type": "stream",
          "text": [
            "F1-Score con Sobremuestreo: 0.47457627118644063\n"
          ]
        }
      ],
      "source": [
        "model_over = LogisticRegression(random_state=12345, solver='liblinear', class_weight='balanced')\n",
        "model_over.fit(features_upsampled, target_upsampled)\n",
        "predicted_valid_lr_over = model_over.predict(features_valid)\n",
        "\n",
        "print('F1-Score con Sobremuestreo:', f1_score(target_valid, predicted_valid_lr_over))"
      ]
    },
    {
      "cell_type": "markdown",
      "metadata": {
        "id": "TObmG52HzV_r"
      },
      "source": [
        "#### Random Forest con sobremuestreo"
      ]
    },
    {
      "cell_type": "code",
      "execution_count": null,
      "metadata": {
        "id": "sj_Tfu_1zV_r",
        "outputId": "e78bf718-7e8f-44cb-a6d1-10e8bedf4352"
      },
      "outputs": [
        {
          "name": "stdout",
          "output_type": "stream",
          "text": [
            "F1-Score RandomForest: 0.593103448275862\n"
          ]
        }
      ],
      "source": [
        "rf_over = RandomForestClassifier(random_state=12345, n_estimators=100, max_depth=10, class_weight='balanced')\n",
        "rf_over.fit(features_upsampled, target_upsampled)\n",
        "\n",
        "predictions_rf_over = rf_over.predict(features_valid)\n",
        "\n",
        "# F1-Score\n",
        "f1_rf_over = f1_score(target_valid, predictions_rf_over)\n",
        "print(f'F1-Score RandomForest: {f1_rf_over}')"
      ]
    },
    {
      "cell_type": "markdown",
      "metadata": {
        "id": "nZ7oGs88zV_s"
      },
      "source": [
        "Tenemos un F1 de 0.593 con RF para sobremuestreo\n",
        "\n",
        "### Submuestreo"
      ]
    },
    {
      "cell_type": "code",
      "execution_count": null,
      "metadata": {
        "id": "ufzg9VvmzV_s"
      },
      "outputs": [],
      "source": [
        "def downsample(features, target, fraction):\n",
        "    features_zeros = features[target == 0]\n",
        "    features_ones = features[target == 1]\n",
        "    target_zeros = target[target == 0]\n",
        "    target_ones = target[target == 1]\n",
        "\n",
        "    features_downsampled = pd.concat(\n",
        "        [features_zeros.sample(frac=fraction, random_state=12345)] + [features_ones]\n",
        "    )\n",
        "    target_downsampled = pd.concat(\n",
        "        [target_zeros.sample(frac=fraction, random_state=12345)] + [target_ones]\n",
        "    )\n",
        "\n",
        "    features_downsampled, target_downsampled = shuffle(\n",
        "        features_downsampled, target_downsampled, random_state=12345\n",
        "    )\n",
        "\n",
        "    return features_downsampled, target_downsampled\n",
        "\n",
        "features_downsampled, target_downsampled = downsample(features_train, target_train, 0.1)"
      ]
    },
    {
      "cell_type": "markdown",
      "metadata": {
        "id": "sZibPYpHzV_t"
      },
      "source": [
        "#### Logistic Regression con submuestreo"
      ]
    },
    {
      "cell_type": "code",
      "execution_count": null,
      "metadata": {
        "id": "B6TM06ffzV_t",
        "outputId": "8f5c8c9e-03fb-4163-ea01-ca6131b3bd0b"
      },
      "outputs": [
        {
          "name": "stdout",
          "output_type": "stream",
          "text": [
            "F1-Score con Submuestreo: 0.47100802854594115\n"
          ]
        }
      ],
      "source": [
        "lr_under = LogisticRegression(random_state=12345, solver='liblinear', class_weight='balanced')\n",
        "lr_under.fit(features_downsampled, target_downsampled)\n",
        "predicted_valid_lr_under = lr_under.predict(features_valid)\n",
        "\n",
        "print('F1-Score con Submuestreo:', f1_score(target_valid, predicted_valid_lr_under))"
      ]
    },
    {
      "cell_type": "markdown",
      "metadata": {
        "id": "yi73SW7hzV_u"
      },
      "source": [
        "#### Random Forest con submuestreo"
      ]
    },
    {
      "cell_type": "code",
      "execution_count": null,
      "metadata": {
        "id": "krhe9jJuzV_u",
        "outputId": "ac118829-ec08-4ad6-c038-6313d11ce13d"
      },
      "outputs": [
        {
          "name": "stdout",
          "output_type": "stream",
          "text": [
            "F1-Score RandomForest: 0.593103448275862\n"
          ]
        }
      ],
      "source": [
        "rf_under = RandomForestClassifier(random_state=12345, n_estimators=100, max_depth=10, class_weight='balanced')\n",
        "rf_under.fit(features_upsampled, target_upsampled)\n",
        "\n",
        "predictions_rf_under = rf_under.predict(features_valid)\n",
        "\n",
        "# F1-Score\n",
        "f1_rf_under = f1_score(target_valid, predictions_rf_under)\n",
        "print(f'F1-Score RandomForest: {f1_rf_under}')"
      ]
    },
    {
      "cell_type": "markdown",
      "metadata": {
        "id": "ITJ3Zxa8zV_u"
      },
      "source": [
        "Tenemos un F1 de 0.593 con RF para submuestreo\n",
        "\n",
        "### Prueba final sobremuestreo y submuestreo"
      ]
    },
    {
      "cell_type": "markdown",
      "metadata": {
        "id": "HJPUk61gzV_v"
      },
      "source": [
        "#### Prueba en conjunto de prueba - Sobremuestreo"
      ]
    },
    {
      "cell_type": "code",
      "execution_count": null,
      "metadata": {
        "id": "LrsJheMEzV_v",
        "outputId": "ad79f5dc-e1e8-4995-8ab5-8acac36fce7b"
      },
      "outputs": [
        {
          "name": "stdout",
          "output_type": "stream",
          "text": [
            "F1-Score en conjunto de prueba (Sobremuestreo): 0.6390658174097665\n",
            "AUC-ROC en conjunto de prueba (Sobremuestreo): 0.8680767816386297\n"
          ]
        }
      ],
      "source": [
        "# modelo Random Forest entrenado con sobremuestreo\n",
        "rf_over = RandomForestClassifier(random_state=12345, n_estimators=100, max_depth=10, class_weight='balanced')\n",
        "rf_over.fit(features_upsampled, target_upsampled)\n",
        "\n",
        "# predicciones en el conjunto de prueba\n",
        "predictions_rf_over_test = rf_over.predict(features_test)\n",
        "\n",
        "# F1-Score en el conjunto de prueba\n",
        "f1_rf_over_test = f1_score(target_test, predictions_rf_over_test)\n",
        "print(f'F1-Score en conjunto de prueba (Sobremuestreo): {f1_rf_over_test}')\n",
        "\n",
        "# AUC-ROC en el conjunto de prueba\n",
        "probabilities_rf_over_test = rf_over.predict_proba(features_test)[:, 1]\n",
        "auc_roc_rf_over_test = roc_auc_score(target_test, probabilities_rf_over_test)\n",
        "print(f'AUC-ROC en conjunto de prueba (Sobremuestreo): {auc_roc_rf_over_test}')\n"
      ]
    },
    {
      "cell_type": "markdown",
      "metadata": {
        "id": "Db4kAW9gzV_w"
      },
      "source": [
        "#### Prueba en conjunto de prueba - Submuestreo"
      ]
    },
    {
      "cell_type": "code",
      "execution_count": null,
      "metadata": {
        "id": "eZEcH1xqzV_w",
        "outputId": "2217b57d-df34-4f92-b7c3-a961aa59e426"
      },
      "outputs": [
        {
          "name": "stdout",
          "output_type": "stream",
          "text": [
            "F1-Score en conjunto de prueba (Submuestreo): 0.5363372093023255\n",
            "AUC-ROC en conjunto de prueba (Submuestreo): 0.8489513467158774\n"
          ]
        }
      ],
      "source": [
        "# modelo Random Forest entrenado con submuestreo\n",
        "rf_under = RandomForestClassifier(random_state=12345, n_estimators=100, max_depth=10, class_weight='balanced')\n",
        "rf_under.fit(features_downsampled, target_downsampled)\n",
        "\n",
        "# Predicciones en el conjunto de prueba\n",
        "predictions_rf_under_test = rf_under.predict(features_test)\n",
        "\n",
        "# F1-Score en el conjunto de prueba\n",
        "f1_rf_under_test = f1_score(target_test, predictions_rf_under_test)\n",
        "print(f'F1-Score en conjunto de prueba (Submuestreo): {f1_rf_under_test}')\n",
        "\n",
        "# AUC-ROC en el conjunto de prueba\n",
        "probabilities_rf_under_test = rf_under.predict_proba(features_test)[:, 1]\n",
        "auc_roc_rf_under_test = roc_auc_score(target_test, probabilities_rf_under_test)\n",
        "print(f'AUC-ROC en conjunto de prueba (Submuestreo): {auc_roc_rf_under_test}')\n"
      ]
    },
    {
      "cell_type": "markdown",
      "metadata": {
        "id": "k8XcE7QwzV_w"
      },
      "source": [
        "## Comparación resultados pruebas finales"
      ]
    },
    {
      "cell_type": "code",
      "execution_count": null,
      "metadata": {
        "id": "29U986eszV_x",
        "outputId": "0b279809-6f38-40cb-a96c-b9cf13c30105"
      },
      "outputs": [
        {
          "name": "stdout",
          "output_type": "stream",
          "text": [
            "Comparación de resultados:\n",
            "F1-Score en conjunto de prueba (Sobremuestreo): 0.6390658174097665\n",
            "AUC-ROC en conjunto de prueba (Sobremuestreo): 0.8680767816386297\n",
            "F1-Score en conjunto de prueba (Submuestreo): 0.5363372093023255\n",
            "AUC-ROC en conjunto de prueba (Submuestreo): 0.8489513467158774\n"
          ]
        }
      ],
      "source": [
        "print(f'Comparación de resultados:')\n",
        "print(f'F1-Score en conjunto de prueba (Sobremuestreo): {f1_rf_over_test}')\n",
        "print(f'AUC-ROC en conjunto de prueba (Sobremuestreo): {auc_roc_rf_over_test}')\n",
        "\n",
        "print(f'F1-Score en conjunto de prueba (Submuestreo): {f1_rf_under_test}')\n",
        "print(f'AUC-ROC en conjunto de prueba (Submuestreo): {auc_roc_rf_under_test}')"
      ]
    },
    {
      "cell_type": "markdown",
      "metadata": {
        "id": "TQg0YyqwzV_0"
      },
      "source": [
        "### Conclusión:\n",
        "- **F1-Score**:\n",
        "\n",
        "    El modelo entrenado con sobremuestreo obtuvo un **F1-Score** de `0.639`, mientras que el modelo entrenado con submuestreo alcanzó un **F1-Score** de `0.536`.\n",
        "    Esto indica que el modelo entrenado con sobremuestreo tiene un _mejor equilibrio entre precisión y recall_, lo que significa que identifica más correctamente tanto los clientes que abandonan como los que no lo hacen, en comparación con el modelo entrenado con submuestreo.\n",
        "\n",
        "\n",
        "- **AUC-ROC:**\n",
        "\n",
        "    El AUC-ROC del modelo entrenado con sobremuestreo fue `0.868`, en comparación con `0.849` del modelo entrenado con submuestreo.\n",
        "    Un AUC-ROC más alto indica que el modelo entrenado con sobremuestreo es _mejor para distinguir entre clientes que abandonarán el banco y los que no lo harán_, incluso con diferentes umbrales de decisión.\n",
        "    \n",
        "    \n",
        "- **Balance general:**\n",
        "\n",
        "    El **sobremuestreo resulta ser la mejor técnica en este caso**. No solo logra un F1-Score más alto, lo que implica una mejor capacidad para predecir de manera balanceada, sino que también obtiene un AUC-ROC superior, lo que indica que el modelo discrimina mejor entre las dos clases.\n",
        "\n",
        "    Aunque el submuestreo también mejora la capacidad del modelo para manejar el desequilibrio de clases, su rendimiento en F1-Score es inferior, lo que sugiere que está perdiendo información valiosa al reducir la cantidad de datos en la clase mayoritaria.\n",
        "\n",
        "---\n",
        "# Conclusiones finales"
      ]
    },
    {
      "cell_type": "markdown",
      "metadata": {
        "id": "GFlVlyOhzV_0"
      },
      "source": [
        "En el proyecto de predicción del churn de clientes de Beta Bank, se ha desarrollado un modelo utilizando Random Forest, logrando un F1-score inicial de `0.6425` y un AUC-ROC de `0.8673` en el conjunto de prueba. Sin embargo, en una iteración posterior del proyecto, se implementaron técnicas de sobremuestreo y submuestreo para tratar el desequilibrio de clases de manera más efectiva.\n",
        "\n",
        "- **Manejo del Desequilibrio de Clases**:\n",
        "    Inicialmente, se utilizó la técnica de ajuste de pesos de las clases, lo cual fue un paso importante para mejorar el rendimiento del modelo en un conjunto de datos con una fuerte descompensación entre las clases. Este ajuste permitió que el modelo mejorara su capacidad para identificar correctamente a los clientes que abandonan el banco. Sin embargo, al aplicar sobremuestreo y submuestreo, se obtuvieron resultados adicionales que mostraron diferencias importantes en el desempeño.\n",
        "\n",
        "\n",
        "- **Comparación de Resultados antes y después de aplicar Sobremuestreo y Submuestreo:**\n",
        "\n",
        "    - **F1-Score:**\n",
        "\n",
        "       - Antes de aplicar estas técnicas, el modelo alcanzó un F1-Score de `0.6425`.\n",
        "       - Después, con el uso de sobremuestreo, el F1-Score fue de `0.639`, lo que muestra que este método mantiene una capacidad similar para manejar el balance entre precisión y recall, sin perder efectividad.\n",
        "           Por otro lado, el submuestreo resultó en un F1-Score de `0.53`, lo que indica que esta técnica reduce la capacidad del modelo para identificar correctamente ambas clases.     \n",
        "\n",
        "    - **AUC-ROC:**\n",
        "\n",
        "        - Antes, el modelo logró un AUC-ROC de `0.8673`.\n",
        "        - Después, el sobremuestreo logró un AUC-ROC de `0.868`, ligeramente superior, lo que sugiere que esta técnica mejora ligeramente la capacidad del modelo para distinguir entre clientes que abandonan y los que no lo hacen.\n",
        "            El submuestreo, en cambio, obtuvo un AUC-ROC de `0.849`, lo que también indica una reducción en la capacidad de diferenciación entre las clases.\n",
        "    \n",
        "    \n",
        "- **Desempeño del Modelo**:\n",
        "\n",
        "    - **Sobremuestreo** resultó ser la técnica más eficaz, logrando un desempeño similar al modelo original en cuanto al F1-Score y mejorando ligeramente el AUC-ROC. Por tanto, es la técnica recomendada para balancear las clases en este caso.\n",
        "    - **Submuestreo**, aunque útil en algunos contextos, no logró superar los resultados iniciales, y su aplicación redujo tanto el F1-Score como el AUC-ROC."
      ]
    }
  ],
  "metadata": {
    "ExecuteTimeLog": [
      {
        "duration": 813,
        "start_time": "2024-10-17T14:43:51.434Z"
      },
      {
        "duration": 3263,
        "start_time": "2024-10-17T15:09:27.176Z"
      },
      {
        "duration": 330,
        "start_time": "2024-10-17T15:09:45.724Z"
      },
      {
        "duration": 327,
        "start_time": "2024-10-17T15:10:32.159Z"
      },
      {
        "duration": 327,
        "start_time": "2024-10-17T15:10:48.261Z"
      },
      {
        "duration": 2,
        "start_time": "2024-10-17T15:12:56.978Z"
      },
      {
        "duration": 191,
        "start_time": "2024-10-17T15:13:03.142Z"
      },
      {
        "duration": 754,
        "start_time": "2024-10-17T15:13:06.218Z"
      },
      {
        "duration": 3,
        "start_time": "2024-10-17T15:13:08.542Z"
      },
      {
        "duration": 28,
        "start_time": "2024-10-17T15:13:08.889Z"
      },
      {
        "duration": 35,
        "start_time": "2024-10-17T15:13:15.151Z"
      },
      {
        "duration": 10,
        "start_time": "2024-10-17T15:14:24.516Z"
      },
      {
        "duration": 76,
        "start_time": "2024-10-17T15:35:35.734Z"
      },
      {
        "duration": 4,
        "start_time": "2024-10-17T15:35:39.926Z"
      },
      {
        "duration": 14,
        "start_time": "2024-10-17T15:46:36.079Z"
      },
      {
        "duration": 10,
        "start_time": "2024-10-17T15:46:42.299Z"
      },
      {
        "duration": 6,
        "start_time": "2024-10-17T15:46:54.513Z"
      },
      {
        "duration": 18,
        "start_time": "2024-10-17T15:49:48.602Z"
      },
      {
        "duration": 17,
        "start_time": "2024-10-17T15:50:12.041Z"
      },
      {
        "duration": 4,
        "start_time": "2024-10-17T15:59:11.552Z"
      },
      {
        "duration": 6,
        "start_time": "2024-10-17T15:59:20.687Z"
      },
      {
        "duration": 4,
        "start_time": "2024-10-17T15:59:41.712Z"
      },
      {
        "duration": 2597,
        "start_time": "2024-10-17T15:59:46.010Z"
      },
      {
        "duration": 9,
        "start_time": "2024-10-17T16:00:23.309Z"
      },
      {
        "duration": 157,
        "start_time": "2024-10-17T16:00:23.554Z"
      },
      {
        "duration": 12,
        "start_time": "2024-10-17T16:00:23.847Z"
      },
      {
        "duration": 822,
        "start_time": "2024-10-17T16:00:26.762Z"
      },
      {
        "duration": 2,
        "start_time": "2024-10-17T16:00:27.586Z"
      },
      {
        "duration": 32,
        "start_time": "2024-10-17T16:00:27.684Z"
      },
      {
        "duration": 11,
        "start_time": "2024-10-17T16:00:28.041Z"
      },
      {
        "duration": 4,
        "start_time": "2024-10-17T16:00:29.508Z"
      },
      {
        "duration": 9,
        "start_time": "2024-10-17T16:00:32.823Z"
      },
      {
        "duration": 9,
        "start_time": "2024-10-17T16:00:33.709Z"
      },
      {
        "duration": 16,
        "start_time": "2024-10-17T16:00:35.909Z"
      },
      {
        "duration": 5,
        "start_time": "2024-10-17T16:00:37.138Z"
      },
      {
        "duration": 2337,
        "start_time": "2024-10-17T16:00:37.863Z"
      },
      {
        "duration": 7,
        "start_time": "2024-10-17T16:01:09.212Z"
      },
      {
        "duration": 790,
        "start_time": "2024-10-17T16:01:32.493Z"
      },
      {
        "duration": 3,
        "start_time": "2024-10-17T16:01:33.285Z"
      },
      {
        "duration": 31,
        "start_time": "2024-10-17T16:01:33.290Z"
      },
      {
        "duration": 22,
        "start_time": "2024-10-17T16:01:33.323Z"
      },
      {
        "duration": 3,
        "start_time": "2024-10-17T16:01:33.347Z"
      },
      {
        "duration": 9,
        "start_time": "2024-10-17T16:01:33.352Z"
      },
      {
        "duration": 6,
        "start_time": "2024-10-17T16:01:33.362Z"
      },
      {
        "duration": 16,
        "start_time": "2024-10-17T16:01:33.370Z"
      },
      {
        "duration": 4,
        "start_time": "2024-10-17T16:01:33.388Z"
      },
      {
        "duration": 7,
        "start_time": "2024-10-17T16:01:33.396Z"
      },
      {
        "duration": 3,
        "start_time": "2024-10-17T16:04:45.904Z"
      },
      {
        "duration": 5,
        "start_time": "2024-10-17T16:04:52.277Z"
      },
      {
        "duration": 1030,
        "start_time": "2024-10-17T16:08:00.955Z"
      },
      {
        "duration": 0,
        "start_time": "2024-10-17T16:08:01.987Z"
      },
      {
        "duration": 3,
        "start_time": "2024-10-17T16:08:14.566Z"
      },
      {
        "duration": 6,
        "start_time": "2024-10-17T16:08:15.927Z"
      },
      {
        "duration": 3,
        "start_time": "2024-10-17T16:08:35.654Z"
      },
      {
        "duration": 4,
        "start_time": "2024-10-17T16:08:38.970Z"
      },
      {
        "duration": 4,
        "start_time": "2024-10-17T16:09:05.091Z"
      },
      {
        "duration": 4,
        "start_time": "2024-10-17T16:09:05.627Z"
      },
      {
        "duration": 11,
        "start_time": "2024-10-17T16:11:58.341Z"
      },
      {
        "duration": 14,
        "start_time": "2024-10-17T16:12:13.350Z"
      },
      {
        "duration": 343,
        "start_time": "2024-10-17T16:12:18.445Z"
      },
      {
        "duration": 49,
        "start_time": "2024-10-17T16:12:27.676Z"
      },
      {
        "duration": 775,
        "start_time": "2024-10-17T16:16:46.486Z"
      },
      {
        "duration": 3,
        "start_time": "2024-10-17T16:16:47.263Z"
      },
      {
        "duration": 32,
        "start_time": "2024-10-17T16:16:47.268Z"
      },
      {
        "duration": 10,
        "start_time": "2024-10-17T16:16:47.302Z"
      },
      {
        "duration": 4,
        "start_time": "2024-10-17T16:16:47.315Z"
      },
      {
        "duration": 234,
        "start_time": "2024-10-17T16:16:47.343Z"
      },
      {
        "duration": 0,
        "start_time": "2024-10-17T16:16:47.579Z"
      },
      {
        "duration": 0,
        "start_time": "2024-10-17T16:16:47.580Z"
      },
      {
        "duration": 0,
        "start_time": "2024-10-17T16:16:47.580Z"
      },
      {
        "duration": 0,
        "start_time": "2024-10-17T16:16:47.581Z"
      },
      {
        "duration": 0,
        "start_time": "2024-10-17T16:16:47.583Z"
      },
      {
        "duration": 0,
        "start_time": "2024-10-17T16:16:47.584Z"
      },
      {
        "duration": 0,
        "start_time": "2024-10-17T16:16:47.585Z"
      },
      {
        "duration": 0,
        "start_time": "2024-10-17T16:16:47.586Z"
      },
      {
        "duration": 0,
        "start_time": "2024-10-17T16:16:47.587Z"
      },
      {
        "duration": 0,
        "start_time": "2024-10-17T16:16:47.588Z"
      },
      {
        "duration": 15,
        "start_time": "2024-10-17T16:17:52.256Z"
      },
      {
        "duration": 3,
        "start_time": "2024-10-17T16:17:55.340Z"
      },
      {
        "duration": 3,
        "start_time": "2024-10-17T16:17:57.569Z"
      },
      {
        "duration": 10,
        "start_time": "2024-10-17T16:18:04.544Z"
      },
      {
        "duration": 10,
        "start_time": "2024-10-17T16:18:09.056Z"
      },
      {
        "duration": 7,
        "start_time": "2024-10-17T16:18:10.034Z"
      },
      {
        "duration": 18,
        "start_time": "2024-10-17T16:18:14.144Z"
      },
      {
        "duration": 4,
        "start_time": "2024-10-17T16:18:16.378Z"
      },
      {
        "duration": 7,
        "start_time": "2024-10-17T16:18:16.857Z"
      },
      {
        "duration": 10,
        "start_time": "2024-10-17T16:18:17.721Z"
      },
      {
        "duration": 822,
        "start_time": "2024-10-17T16:18:35.965Z"
      },
      {
        "duration": 2,
        "start_time": "2024-10-17T16:18:36.790Z"
      },
      {
        "duration": 32,
        "start_time": "2024-10-17T16:18:36.794Z"
      },
      {
        "duration": 18,
        "start_time": "2024-10-17T16:18:36.828Z"
      },
      {
        "duration": 4,
        "start_time": "2024-10-17T16:18:36.848Z"
      },
      {
        "duration": 3,
        "start_time": "2024-10-17T16:18:36.853Z"
      },
      {
        "duration": 9,
        "start_time": "2024-10-17T16:18:36.857Z"
      },
      {
        "duration": 5,
        "start_time": "2024-10-17T16:18:36.868Z"
      },
      {
        "duration": 17,
        "start_time": "2024-10-17T16:18:36.875Z"
      },
      {
        "duration": 5,
        "start_time": "2024-10-17T16:18:36.893Z"
      },
      {
        "duration": 49,
        "start_time": "2024-10-17T16:18:36.899Z"
      },
      {
        "duration": 10,
        "start_time": "2024-10-17T16:18:36.950Z"
      },
      {
        "duration": 4,
        "start_time": "2024-10-17T16:18:36.962Z"
      },
      {
        "duration": 6,
        "start_time": "2024-10-17T16:18:36.969Z"
      },
      {
        "duration": 3,
        "start_time": "2024-10-17T16:18:36.977Z"
      },
      {
        "duration": 5,
        "start_time": "2024-10-17T16:18:36.982Z"
      },
      {
        "duration": 817,
        "start_time": "2024-10-17T16:20:20.150Z"
      },
      {
        "duration": 2,
        "start_time": "2024-10-17T16:20:20.969Z"
      },
      {
        "duration": 32,
        "start_time": "2024-10-17T16:20:21.342Z"
      },
      {
        "duration": 10,
        "start_time": "2024-10-17T16:20:23.133Z"
      },
      {
        "duration": 3,
        "start_time": "2024-10-17T16:20:27.086Z"
      },
      {
        "duration": 9,
        "start_time": "2024-10-17T16:20:30.122Z"
      },
      {
        "duration": 7,
        "start_time": "2024-10-17T16:20:31.933Z"
      },
      {
        "duration": 17,
        "start_time": "2024-10-17T16:20:36.947Z"
      },
      {
        "duration": 4,
        "start_time": "2024-10-17T16:20:40.698Z"
      },
      {
        "duration": 6,
        "start_time": "2024-10-17T16:20:41.698Z"
      },
      {
        "duration": 9,
        "start_time": "2024-10-17T16:20:44.339Z"
      },
      {
        "duration": 3,
        "start_time": "2024-10-17T16:20:51.702Z"
      },
      {
        "duration": 6,
        "start_time": "2024-10-17T16:20:52.187Z"
      },
      {
        "duration": 3,
        "start_time": "2024-10-17T16:20:56.284Z"
      },
      {
        "duration": 5,
        "start_time": "2024-10-17T16:20:56.658Z"
      },
      {
        "duration": 3,
        "start_time": "2024-10-17T16:21:00.712Z"
      },
      {
        "duration": 3,
        "start_time": "2024-10-17T16:24:06.526Z"
      },
      {
        "duration": 4,
        "start_time": "2024-10-17T16:24:06.893Z"
      },
      {
        "duration": 3,
        "start_time": "2024-10-17T16:24:30.218Z"
      },
      {
        "duration": 3,
        "start_time": "2024-10-17T16:24:33.717Z"
      },
      {
        "duration": 4,
        "start_time": "2024-10-17T16:43:05.264Z"
      },
      {
        "duration": 6,
        "start_time": "2024-10-17T16:43:10.304Z"
      },
      {
        "duration": 4,
        "start_time": "2024-10-17T16:43:11.588Z"
      },
      {
        "duration": 6,
        "start_time": "2024-10-17T16:48:05.489Z"
      },
      {
        "duration": 4,
        "start_time": "2024-10-17T16:48:12.557Z"
      },
      {
        "duration": 11,
        "start_time": "2024-10-17T16:48:19.105Z"
      },
      {
        "duration": 8,
        "start_time": "2024-10-17T16:48:20.953Z"
      },
      {
        "duration": 8,
        "start_time": "2024-10-17T16:48:27.171Z"
      },
      {
        "duration": 6,
        "start_time": "2024-10-17T16:48:38.670Z"
      },
      {
        "duration": 8,
        "start_time": "2024-10-17T16:48:46.984Z"
      },
      {
        "duration": 840,
        "start_time": "2024-10-17T16:49:10.044Z"
      },
      {
        "duration": 3,
        "start_time": "2024-10-17T16:49:10.886Z"
      },
      {
        "duration": 32,
        "start_time": "2024-10-17T16:49:10.890Z"
      },
      {
        "duration": 27,
        "start_time": "2024-10-17T16:49:10.925Z"
      },
      {
        "duration": 4,
        "start_time": "2024-10-17T16:49:10.956Z"
      },
      {
        "duration": 6,
        "start_time": "2024-10-17T16:49:10.963Z"
      },
      {
        "duration": 10,
        "start_time": "2024-10-17T16:49:10.972Z"
      },
      {
        "duration": 6,
        "start_time": "2024-10-17T16:49:10.983Z"
      },
      {
        "duration": 21,
        "start_time": "2024-10-17T16:49:10.991Z"
      },
      {
        "duration": 6,
        "start_time": "2024-10-17T16:49:11.043Z"
      },
      {
        "duration": 9,
        "start_time": "2024-10-17T16:49:11.050Z"
      },
      {
        "duration": 10,
        "start_time": "2024-10-17T16:49:11.060Z"
      },
      {
        "duration": 3,
        "start_time": "2024-10-17T16:49:11.072Z"
      },
      {
        "duration": 6,
        "start_time": "2024-10-17T16:49:11.077Z"
      },
      {
        "duration": 4,
        "start_time": "2024-10-17T16:49:11.085Z"
      },
      {
        "duration": 3,
        "start_time": "2024-10-17T16:49:11.092Z"
      },
      {
        "duration": 4,
        "start_time": "2024-10-17T16:49:11.097Z"
      },
      {
        "duration": 44,
        "start_time": "2024-10-17T16:49:11.102Z"
      },
      {
        "duration": 5,
        "start_time": "2024-10-17T16:49:11.148Z"
      },
      {
        "duration": 3,
        "start_time": "2024-10-17T16:49:42.221Z"
      },
      {
        "duration": 4,
        "start_time": "2024-10-17T16:49:42.834Z"
      },
      {
        "duration": 4,
        "start_time": "2024-10-17T16:50:03.951Z"
      },
      {
        "duration": 6,
        "start_time": "2024-10-17T16:50:04.381Z"
      },
      {
        "duration": 5,
        "start_time": "2024-10-17T16:50:10.689Z"
      },
      {
        "duration": 4,
        "start_time": "2024-10-17T16:50:11.922Z"
      },
      {
        "duration": 3,
        "start_time": "2024-10-17T16:50:18.511Z"
      },
      {
        "duration": 4,
        "start_time": "2024-10-17T16:50:24.166Z"
      },
      {
        "duration": 319,
        "start_time": "2024-10-17T16:51:34.665Z"
      },
      {
        "duration": 690,
        "start_time": "2024-10-17T16:51:45.460Z"
      },
      {
        "duration": 2,
        "start_time": "2024-10-17T16:51:59.011Z"
      },
      {
        "duration": 4,
        "start_time": "2024-10-17T16:51:59.823Z"
      },
      {
        "duration": 17,
        "start_time": "2024-10-17T16:52:07.086Z"
      },
      {
        "duration": 7,
        "start_time": "2024-10-17T16:57:21.432Z"
      },
      {
        "duration": 3,
        "start_time": "2024-10-17T16:57:22.113Z"
      },
      {
        "duration": 9,
        "start_time": "2024-10-17T16:57:35.663Z"
      },
      {
        "duration": 15,
        "start_time": "2024-10-17T16:57:39.462Z"
      },
      {
        "duration": 7,
        "start_time": "2024-10-17T16:59:15.976Z"
      },
      {
        "duration": 8,
        "start_time": "2024-10-17T17:00:05.403Z"
      },
      {
        "duration": 36,
        "start_time": "2024-10-17T17:10:05.178Z"
      },
      {
        "duration": 5,
        "start_time": "2024-10-17T17:10:08.198Z"
      },
      {
        "duration": 6,
        "start_time": "2024-10-17T17:10:08.395Z"
      },
      {
        "duration": 14,
        "start_time": "2024-10-17T17:10:32.287Z"
      },
      {
        "duration": 3511,
        "start_time": "2024-10-17T17:11:18.376Z"
      },
      {
        "duration": 163,
        "start_time": "2024-10-17T17:11:30.755Z"
      },
      {
        "duration": 141,
        "start_time": "2024-10-17T17:12:55.675Z"
      },
      {
        "duration": 217,
        "start_time": "2024-10-17T17:13:04.837Z"
      },
      {
        "duration": 420,
        "start_time": "2024-10-17T17:14:35.974Z"
      },
      {
        "duration": 135,
        "start_time": "2024-10-17T17:14:51.671Z"
      },
      {
        "duration": 141,
        "start_time": "2024-10-17T17:14:57.866Z"
      },
      {
        "duration": 136,
        "start_time": "2024-10-17T17:15:44.327Z"
      },
      {
        "duration": 139,
        "start_time": "2024-10-17T17:15:57.764Z"
      },
      {
        "duration": 19,
        "start_time": "2024-10-17T17:16:23.329Z"
      },
      {
        "duration": 4,
        "start_time": "2024-10-17T17:16:26.674Z"
      },
      {
        "duration": 154,
        "start_time": "2024-10-17T17:16:26.861Z"
      },
      {
        "duration": 902,
        "start_time": "2024-10-17T21:11:36.076Z"
      },
      {
        "duration": 4,
        "start_time": "2024-10-17T21:11:36.980Z"
      },
      {
        "duration": 64,
        "start_time": "2024-10-17T21:11:36.986Z"
      },
      {
        "duration": 24,
        "start_time": "2024-10-17T21:11:37.052Z"
      },
      {
        "duration": 3,
        "start_time": "2024-10-17T21:11:37.080Z"
      },
      {
        "duration": 6,
        "start_time": "2024-10-17T21:11:37.085Z"
      },
      {
        "duration": 12,
        "start_time": "2024-10-17T21:11:37.092Z"
      },
      {
        "duration": 6,
        "start_time": "2024-10-17T21:11:37.106Z"
      },
      {
        "duration": 40,
        "start_time": "2024-10-17T21:11:37.114Z"
      },
      {
        "duration": 10,
        "start_time": "2024-10-17T21:11:37.156Z"
      },
      {
        "duration": 7,
        "start_time": "2024-10-17T21:11:37.169Z"
      },
      {
        "duration": 10,
        "start_time": "2024-10-17T21:11:37.178Z"
      },
      {
        "duration": 3,
        "start_time": "2024-10-17T21:11:37.189Z"
      },
      {
        "duration": 7,
        "start_time": "2024-10-17T21:11:37.196Z"
      },
      {
        "duration": 4,
        "start_time": "2024-10-17T21:11:37.204Z"
      },
      {
        "duration": 29,
        "start_time": "2024-10-17T21:11:37.209Z"
      },
      {
        "duration": 10,
        "start_time": "2024-10-17T21:11:37.244Z"
      },
      {
        "duration": 6,
        "start_time": "2024-10-17T21:11:37.256Z"
      },
      {
        "duration": 7,
        "start_time": "2024-10-17T21:11:37.263Z"
      },
      {
        "duration": 8,
        "start_time": "2024-10-17T21:11:37.272Z"
      },
      {
        "duration": 18,
        "start_time": "2024-10-17T21:11:37.282Z"
      },
      {
        "duration": 10,
        "start_time": "2024-10-17T21:11:37.301Z"
      },
      {
        "duration": 21,
        "start_time": "2024-10-17T21:11:37.313Z"
      },
      {
        "duration": 2630,
        "start_time": "2024-10-17T21:11:37.347Z"
      },
      {
        "duration": 5,
        "start_time": "2024-10-17T21:11:39.979Z"
      },
      {
        "duration": 162,
        "start_time": "2024-10-17T21:11:39.988Z"
      },
      {
        "duration": 17,
        "start_time": "2024-10-17T21:11:40.161Z"
      },
      {
        "duration": 132,
        "start_time": "2024-10-17T21:11:40.181Z"
      },
      {
        "duration": 7,
        "start_time": "2024-10-17T21:11:40.315Z"
      },
      {
        "duration": 90,
        "start_time": "2024-10-17T21:12:18.752Z"
      },
      {
        "duration": 10,
        "start_time": "2024-10-17T21:12:59.100Z"
      },
      {
        "duration": 6,
        "start_time": "2024-10-17T21:13:15.877Z"
      },
      {
        "duration": 478,
        "start_time": "2024-10-17T21:13:34.425Z"
      },
      {
        "duration": 126,
        "start_time": "2024-10-17T21:13:52.964Z"
      },
      {
        "duration": 57,
        "start_time": "2024-10-17T21:14:53.003Z"
      },
      {
        "duration": 127,
        "start_time": "2024-10-17T21:15:12.151Z"
      },
      {
        "duration": 314,
        "start_time": "2024-10-17T21:16:26.339Z"
      },
      {
        "duration": 140,
        "start_time": "2024-10-17T21:17:34.380Z"
      },
      {
        "duration": 127,
        "start_time": "2024-10-17T21:17:43.889Z"
      },
      {
        "duration": 130,
        "start_time": "2024-10-17T21:17:56.980Z"
      },
      {
        "duration": 171,
        "start_time": "2024-10-17T21:18:02.590Z"
      },
      {
        "duration": 186,
        "start_time": "2024-10-17T21:18:05.883Z"
      },
      {
        "duration": 53,
        "start_time": "2024-10-17T21:18:41.550Z"
      },
      {
        "duration": 122,
        "start_time": "2024-10-17T21:18:59.867Z"
      },
      {
        "duration": 8,
        "start_time": "2024-10-17T21:31:33.107Z"
      },
      {
        "duration": 7,
        "start_time": "2024-10-17T21:43:14.166Z"
      },
      {
        "duration": 13,
        "start_time": "2024-10-17T21:43:27.249Z"
      },
      {
        "duration": 6,
        "start_time": "2024-10-17T21:43:31.194Z"
      },
      {
        "duration": 3,
        "start_time": "2024-10-17T21:47:07.548Z"
      },
      {
        "duration": 16,
        "start_time": "2024-10-17T21:47:44.214Z"
      },
      {
        "duration": 9,
        "start_time": "2024-10-17T21:49:19.512Z"
      },
      {
        "duration": 7,
        "start_time": "2024-10-17T21:49:21.522Z"
      },
      {
        "duration": 3,
        "start_time": "2024-10-17T21:49:23.216Z"
      },
      {
        "duration": 15,
        "start_time": "2024-10-17T21:49:30.388Z"
      },
      {
        "duration": 26,
        "start_time": "2024-10-17T21:55:24.356Z"
      },
      {
        "duration": 35,
        "start_time": "2024-10-17T21:55:38.403Z"
      },
      {
        "duration": 44,
        "start_time": "2024-10-17T21:55:42.318Z"
      },
      {
        "duration": 4,
        "start_time": "2024-10-17T21:56:14.856Z"
      },
      {
        "duration": 151,
        "start_time": "2024-10-17T22:01:37.048Z"
      },
      {
        "duration": 8,
        "start_time": "2024-10-17T22:08:24.055Z"
      },
      {
        "duration": 5,
        "start_time": "2024-10-17T22:22:44.415Z"
      },
      {
        "duration": 129,
        "start_time": "2024-10-17T22:22:52.174Z"
      },
      {
        "duration": 27,
        "start_time": "2024-10-17T22:28:11.853Z"
      },
      {
        "duration": 46,
        "start_time": "2024-10-17T22:29:16.320Z"
      },
      {
        "duration": 35,
        "start_time": "2024-10-17T22:29:23.502Z"
      },
      {
        "duration": 20,
        "start_time": "2024-10-17T22:29:26.590Z"
      },
      {
        "duration": 40,
        "start_time": "2024-10-17T22:29:56.417Z"
      },
      {
        "duration": 32,
        "start_time": "2024-10-17T22:30:00.364Z"
      },
      {
        "duration": 39,
        "start_time": "2024-10-17T22:30:03.348Z"
      },
      {
        "duration": 17,
        "start_time": "2024-10-17T22:30:07.788Z"
      },
      {
        "duration": 27,
        "start_time": "2024-10-17T22:30:10.889Z"
      },
      {
        "duration": 25,
        "start_time": "2024-10-17T22:30:14.202Z"
      },
      {
        "duration": 28,
        "start_time": "2024-10-17T22:30:17.517Z"
      },
      {
        "duration": 30,
        "start_time": "2024-10-17T22:30:19.852Z"
      },
      {
        "duration": 27,
        "start_time": "2024-10-17T22:30:23.401Z"
      },
      {
        "duration": 24,
        "start_time": "2024-10-17T22:30:30.205Z"
      },
      {
        "duration": 27,
        "start_time": "2024-10-17T22:30:33.744Z"
      },
      {
        "duration": 29,
        "start_time": "2024-10-17T22:30:36.157Z"
      },
      {
        "duration": 37,
        "start_time": "2024-10-17T22:30:39.014Z"
      },
      {
        "duration": 32,
        "start_time": "2024-10-17T22:30:41.842Z"
      },
      {
        "duration": 27,
        "start_time": "2024-10-17T22:30:44.846Z"
      },
      {
        "duration": 36,
        "start_time": "2024-10-17T22:33:42.693Z"
      },
      {
        "duration": 202,
        "start_time": "2024-10-17T22:34:00.384Z"
      },
      {
        "duration": 164,
        "start_time": "2024-10-17T22:34:14.148Z"
      },
      {
        "duration": 190,
        "start_time": "2024-10-17T22:35:15.252Z"
      },
      {
        "duration": 173,
        "start_time": "2024-10-17T22:35:25.605Z"
      },
      {
        "duration": 215,
        "start_time": "2024-10-17T22:36:49.691Z"
      },
      {
        "duration": 3,
        "start_time": "2024-10-17T22:36:54.668Z"
      },
      {
        "duration": 18,
        "start_time": "2024-10-17T22:37:02.354Z"
      },
      {
        "duration": 17,
        "start_time": "2024-10-17T22:38:10.072Z"
      },
      {
        "duration": 536,
        "start_time": "2024-10-17T22:38:38.651Z"
      },
      {
        "duration": 536,
        "start_time": "2024-10-17T22:38:59.447Z"
      },
      {
        "duration": 508,
        "start_time": "2024-10-17T22:39:13.313Z"
      },
      {
        "duration": 513,
        "start_time": "2024-10-17T22:39:17.071Z"
      },
      {
        "duration": 528,
        "start_time": "2024-10-17T22:39:20.368Z"
      },
      {
        "duration": 391,
        "start_time": "2024-10-17T22:44:36.108Z"
      },
      {
        "duration": 516,
        "start_time": "2024-10-17T22:45:14.514Z"
      },
      {
        "duration": 31528,
        "start_time": "2024-10-17T22:46:17.980Z"
      },
      {
        "duration": 4,
        "start_time": "2024-10-17T22:49:51.279Z"
      },
      {
        "duration": 545,
        "start_time": "2024-10-17T22:54:28.701Z"
      },
      {
        "duration": 40,
        "start_time": "2024-10-17T22:54:42.308Z"
      },
      {
        "duration": 1331,
        "start_time": "2024-10-17T22:57:38.748Z"
      },
      {
        "duration": 32,
        "start_time": "2024-10-17T23:13:54.451Z"
      },
      {
        "duration": 619,
        "start_time": "2024-10-17T23:17:40.973Z"
      },
      {
        "duration": 7,
        "start_time": "2024-10-17T23:19:46.167Z"
      },
      {
        "duration": 6,
        "start_time": "2024-10-17T23:20:05.586Z"
      },
      {
        "duration": 28,
        "start_time": "2024-10-17T23:24:31.089Z"
      },
      {
        "duration": 44,
        "start_time": "2024-10-17T23:24:36.817Z"
      },
      {
        "duration": 10,
        "start_time": "2024-10-17T23:24:59.028Z"
      },
      {
        "duration": 30,
        "start_time": "2024-10-17T23:25:00.099Z"
      },
      {
        "duration": 4,
        "start_time": "2024-10-17T23:25:19.444Z"
      },
      {
        "duration": 4,
        "start_time": "2024-10-17T23:25:30.468Z"
      },
      {
        "duration": 3,
        "start_time": "2024-10-17T23:25:31.156Z"
      },
      {
        "duration": 13,
        "start_time": "2024-10-17T23:25:32.088Z"
      },
      {
        "duration": 471,
        "start_time": "2024-10-17T23:25:34.891Z"
      },
      {
        "duration": 398,
        "start_time": "2024-10-17T23:26:19.283Z"
      },
      {
        "duration": 979,
        "start_time": "2024-10-17T23:26:46.117Z"
      },
      {
        "duration": 3119,
        "start_time": "2024-10-17T23:27:15.847Z"
      },
      {
        "duration": 1070,
        "start_time": "2024-10-17T23:27:39.720Z"
      },
      {
        "duration": 72959,
        "start_time": "2024-10-17T23:27:58.464Z"
      },
      {
        "duration": 74,
        "start_time": "2024-10-17T23:29:28.964Z"
      },
      {
        "duration": 22,
        "start_time": "2024-10-17T23:32:13.973Z"
      },
      {
        "duration": 9925,
        "start_time": "2024-10-17T23:33:13.635Z"
      },
      {
        "duration": 26,
        "start_time": "2024-10-17T23:33:23.563Z"
      },
      {
        "duration": 15,
        "start_time": "2024-10-17T23:38:38.379Z"
      },
      {
        "duration": 9,
        "start_time": "2024-10-17T23:38:39.549Z"
      },
      {
        "duration": 472,
        "start_time": "2024-10-17T23:39:10.337Z"
      },
      {
        "duration": 17,
        "start_time": "2024-10-17T23:40:17.080Z"
      },
      {
        "duration": 21,
        "start_time": "2024-10-17T23:40:39.763Z"
      },
      {
        "duration": 5,
        "start_time": "2024-10-17T23:41:52.094Z"
      },
      {
        "duration": 21,
        "start_time": "2024-10-17T23:41:53.662Z"
      },
      {
        "duration": 11,
        "start_time": "2024-10-17T23:42:24.284Z"
      },
      {
        "duration": 10,
        "start_time": "2024-10-17T23:42:25.159Z"
      },
      {
        "duration": 6,
        "start_time": "2024-10-17T23:42:26.955Z"
      },
      {
        "duration": 24,
        "start_time": "2024-10-17T23:42:45.066Z"
      },
      {
        "duration": 16,
        "start_time": "2024-10-17T23:44:21.807Z"
      },
      {
        "duration": 6,
        "start_time": "2024-10-17T23:47:43.197Z"
      },
      {
        "duration": 286,
        "start_time": "2024-10-17T23:48:11.528Z"
      },
      {
        "duration": 9,
        "start_time": "2024-10-17T23:48:18.906Z"
      },
      {
        "duration": 46,
        "start_time": "2024-10-17T23:48:20.407Z"
      },
      {
        "duration": 14,
        "start_time": "2024-10-17T23:48:51.979Z"
      },
      {
        "duration": 5,
        "start_time": "2024-10-17T23:49:08.010Z"
      },
      {
        "duration": 24,
        "start_time": "2024-10-17T23:49:11.781Z"
      },
      {
        "duration": 10,
        "start_time": "2024-10-17T23:49:16.075Z"
      },
      {
        "duration": 40,
        "start_time": "2024-10-17T23:49:16.856Z"
      },
      {
        "duration": 50,
        "start_time": "2024-10-17T23:49:45.051Z"
      },
      {
        "duration": 24,
        "start_time": "2024-10-17T23:49:56.481Z"
      },
      {
        "duration": 17,
        "start_time": "2024-10-17T23:50:10.189Z"
      },
      {
        "duration": 397,
        "start_time": "2024-10-17T23:50:40.771Z"
      },
      {
        "duration": 3,
        "start_time": "2024-10-17T23:52:52.273Z"
      },
      {
        "duration": 3,
        "start_time": "2024-10-17T23:53:00.775Z"
      },
      {
        "duration": 4,
        "start_time": "2024-10-17T23:53:13.991Z"
      },
      {
        "duration": 26,
        "start_time": "2024-10-17T23:54:40.676Z"
      },
      {
        "duration": 23,
        "start_time": "2024-10-17T23:55:50.326Z"
      },
      {
        "duration": 50,
        "start_time": "2024-10-17T23:57:37.629Z"
      },
      {
        "duration": 9,
        "start_time": "2024-10-17T23:58:39.046Z"
      },
      {
        "duration": 7,
        "start_time": "2024-10-17T23:58:39.423Z"
      },
      {
        "duration": 4,
        "start_time": "2024-10-17T23:58:40.275Z"
      },
      {
        "duration": 2,
        "start_time": "2024-10-17T23:58:43.526Z"
      },
      {
        "duration": 5,
        "start_time": "2024-10-17T23:58:43.875Z"
      },
      {
        "duration": 97,
        "start_time": "2024-10-17T23:58:52.046Z"
      },
      {
        "duration": 24,
        "start_time": "2024-10-17T23:58:55.338Z"
      },
      {
        "duration": 158,
        "start_time": "2024-10-17T23:58:57.688Z"
      },
      {
        "duration": 3,
        "start_time": "2024-10-17T23:59:01.095Z"
      },
      {
        "duration": 480,
        "start_time": "2024-10-17T23:59:03.439Z"
      },
      {
        "duration": 9407,
        "start_time": "2024-10-17T23:59:05.018Z"
      },
      {
        "duration": 0,
        "start_time": "2024-10-17T23:59:14.427Z"
      },
      {
        "duration": 0,
        "start_time": "2024-10-17T23:59:14.428Z"
      },
      {
        "duration": 40,
        "start_time": "2024-10-17T23:59:24.652Z"
      },
      {
        "duration": 29775,
        "start_time": "2024-10-17T23:59:32.526Z"
      },
      {
        "duration": 72,
        "start_time": "2024-10-18T00:00:12.122Z"
      },
      {
        "duration": 70,
        "start_time": "2024-10-18T00:00:13.425Z"
      },
      {
        "duration": 1048,
        "start_time": "2024-10-18T00:00:45.101Z"
      },
      {
        "duration": 77233,
        "start_time": "2024-10-18T00:00:59.877Z"
      },
      {
        "duration": 4,
        "start_time": "2024-10-18T00:03:05.551Z"
      },
      {
        "duration": 4,
        "start_time": "2024-10-18T00:03:22.283Z"
      },
      {
        "duration": 4,
        "start_time": "2024-10-18T00:04:43.718Z"
      },
      {
        "duration": 4,
        "start_time": "2024-10-18T00:05:16.940Z"
      },
      {
        "duration": 88,
        "start_time": "2024-10-18T00:08:03.248Z"
      },
      {
        "duration": 229,
        "start_time": "2024-10-18T00:08:25.929Z"
      },
      {
        "duration": 11,
        "start_time": "2024-10-18T00:08:37.019Z"
      },
      {
        "duration": 5,
        "start_time": "2024-10-18T00:08:48.007Z"
      },
      {
        "duration": 5,
        "start_time": "2024-10-18T00:10:00.734Z"
      },
      {
        "duration": 11,
        "start_time": "2024-10-18T00:10:08.475Z"
      },
      {
        "duration": 3,
        "start_time": "2024-10-18T00:10:10.051Z"
      },
      {
        "duration": 49,
        "start_time": "2024-10-18T00:10:56.446Z"
      },
      {
        "duration": 7,
        "start_time": "2024-10-18T00:21:20.792Z"
      },
      {
        "duration": 11,
        "start_time": "2024-10-18T00:23:06.308Z"
      },
      {
        "duration": 11,
        "start_time": "2024-10-18T00:23:07.083Z"
      },
      {
        "duration": 6,
        "start_time": "2024-10-18T00:23:09.417Z"
      },
      {
        "duration": 22,
        "start_time": "2024-10-18T00:23:13.045Z"
      },
      {
        "duration": 709,
        "start_time": "2024-10-18T00:23:15.358Z"
      },
      {
        "duration": 22,
        "start_time": "2024-10-18T00:23:49.205Z"
      },
      {
        "duration": 657,
        "start_time": "2024-10-18T00:24:08.793Z"
      },
      {
        "duration": 43,
        "start_time": "2024-10-18T00:24:27.561Z"
      },
      {
        "duration": 71,
        "start_time": "2024-10-18T00:24:48.466Z"
      },
      {
        "duration": 2774,
        "start_time": "2024-10-18T02:16:30.042Z"
      },
      {
        "duration": 4,
        "start_time": "2024-10-18T02:16:34.906Z"
      },
      {
        "duration": 38,
        "start_time": "2024-10-18T02:16:35.517Z"
      },
      {
        "duration": 12,
        "start_time": "2024-10-18T02:16:36.042Z"
      },
      {
        "duration": 4,
        "start_time": "2024-10-18T02:16:38.092Z"
      },
      {
        "duration": 6,
        "start_time": "2024-10-18T02:16:39.291Z"
      },
      {
        "duration": 10,
        "start_time": "2024-10-18T02:16:41.029Z"
      },
      {
        "duration": 7,
        "start_time": "2024-10-18T02:16:42.954Z"
      },
      {
        "duration": 18,
        "start_time": "2024-10-18T02:16:45.323Z"
      },
      {
        "duration": 5,
        "start_time": "2024-10-18T02:16:47.553Z"
      },
      {
        "duration": 7,
        "start_time": "2024-10-18T02:16:47.904Z"
      },
      {
        "duration": 11,
        "start_time": "2024-10-18T02:16:49.626Z"
      },
      {
        "duration": 3,
        "start_time": "2024-10-18T02:16:52.854Z"
      },
      {
        "duration": 7,
        "start_time": "2024-10-18T02:16:54.093Z"
      },
      {
        "duration": 4,
        "start_time": "2024-10-18T02:16:56.117Z"
      },
      {
        "duration": 3,
        "start_time": "2024-10-18T02:16:56.304Z"
      },
      {
        "duration": 4,
        "start_time": "2024-10-18T02:16:56.505Z"
      },
      {
        "duration": 4,
        "start_time": "2024-10-18T02:16:56.748Z"
      },
      {
        "duration": 3,
        "start_time": "2024-10-18T02:16:56.893Z"
      },
      {
        "duration": 3,
        "start_time": "2024-10-18T02:16:57.107Z"
      },
      {
        "duration": 15,
        "start_time": "2024-10-18T02:16:57.470Z"
      },
      {
        "duration": 9,
        "start_time": "2024-10-18T02:16:58.127Z"
      },
      {
        "duration": 15,
        "start_time": "2024-10-18T02:16:58.580Z"
      },
      {
        "duration": 6,
        "start_time": "2024-10-18T02:17:00.243Z"
      },
      {
        "duration": 130,
        "start_time": "2024-10-18T02:17:00.454Z"
      },
      {
        "duration": 6,
        "start_time": "2024-10-18T02:17:01.429Z"
      },
      {
        "duration": 184,
        "start_time": "2024-10-18T02:17:01.805Z"
      },
      {
        "duration": 7,
        "start_time": "2024-10-18T02:17:04.905Z"
      },
      {
        "duration": 6,
        "start_time": "2024-10-18T02:17:06.155Z"
      },
      {
        "duration": 3,
        "start_time": "2024-10-18T02:17:06.492Z"
      },
      {
        "duration": 18,
        "start_time": "2024-10-18T02:17:08.742Z"
      },
      {
        "duration": 97,
        "start_time": "2024-10-18T02:17:12.129Z"
      },
      {
        "duration": 151,
        "start_time": "2024-10-18T02:17:15.933Z"
      },
      {
        "duration": 3,
        "start_time": "2024-10-18T02:17:20.670Z"
      },
      {
        "duration": 28685,
        "start_time": "2024-10-18T02:17:27.143Z"
      },
      {
        "duration": 17,
        "start_time": "2024-10-18T02:18:01.506Z"
      },
      {
        "duration": 39,
        "start_time": "2024-10-18T02:18:12.696Z"
      },
      {
        "duration": 14,
        "start_time": "2024-10-18T02:18:24.495Z"
      },
      {
        "duration": 9,
        "start_time": "2024-10-18T02:18:26.968Z"
      },
      {
        "duration": 5,
        "start_time": "2024-10-18T02:18:28.268Z"
      },
      {
        "duration": 29,
        "start_time": "2024-10-18T02:18:38.183Z"
      },
      {
        "duration": 639,
        "start_time": "2024-10-18T02:18:44.093Z"
      },
      {
        "duration": 17,
        "start_time": "2024-10-18T02:18:49.019Z"
      },
      {
        "duration": 3,
        "start_time": "2024-10-18T02:18:52.606Z"
      },
      {
        "duration": 37,
        "start_time": "2024-10-18T02:20:13.322Z"
      },
      {
        "duration": 37,
        "start_time": "2024-10-18T02:20:15.643Z"
      },
      {
        "duration": 20,
        "start_time": "2024-10-18T02:24:24.111Z"
      },
      {
        "duration": 632,
        "start_time": "2024-10-18T02:24:25.913Z"
      },
      {
        "duration": 20,
        "start_time": "2024-10-18T02:24:28.197Z"
      },
      {
        "duration": 3,
        "start_time": "2024-10-18T02:24:30.009Z"
      },
      {
        "duration": 38,
        "start_time": "2024-10-18T02:24:31.021Z"
      },
      {
        "duration": 28,
        "start_time": "2024-10-18T02:24:38.023Z"
      },
      {
        "duration": 632,
        "start_time": "2024-10-18T02:24:39.272Z"
      },
      {
        "duration": 16,
        "start_time": "2024-10-18T02:24:39.906Z"
      },
      {
        "duration": 3,
        "start_time": "2024-10-18T02:24:40.160Z"
      },
      {
        "duration": 36,
        "start_time": "2024-10-18T02:24:41.198Z"
      },
      {
        "duration": 1059,
        "start_time": "2024-10-18T02:24:47.541Z"
      },
      {
        "duration": 7,
        "start_time": "2024-10-18T02:24:48.602Z"
      },
      {
        "duration": 30,
        "start_time": "2024-10-18T02:24:48.610Z"
      },
      {
        "duration": 9,
        "start_time": "2024-10-18T02:24:48.642Z"
      },
      {
        "duration": 4,
        "start_time": "2024-10-18T02:24:48.654Z"
      },
      {
        "duration": 6,
        "start_time": "2024-10-18T02:24:48.659Z"
      },
      {
        "duration": 9,
        "start_time": "2024-10-18T02:24:48.667Z"
      },
      {
        "duration": 34,
        "start_time": "2024-10-18T02:24:48.678Z"
      },
      {
        "duration": 15,
        "start_time": "2024-10-18T02:24:48.714Z"
      },
      {
        "duration": 3,
        "start_time": "2024-10-18T02:24:48.731Z"
      },
      {
        "duration": 6,
        "start_time": "2024-10-18T02:24:48.736Z"
      },
      {
        "duration": 8,
        "start_time": "2024-10-18T02:24:48.744Z"
      },
      {
        "duration": 2,
        "start_time": "2024-10-18T02:24:48.754Z"
      },
      {
        "duration": 5,
        "start_time": "2024-10-18T02:24:48.760Z"
      },
      {
        "duration": 42,
        "start_time": "2024-10-18T02:24:48.767Z"
      },
      {
        "duration": 4,
        "start_time": "2024-10-18T02:24:48.811Z"
      },
      {
        "duration": 3,
        "start_time": "2024-10-18T02:24:48.816Z"
      },
      {
        "duration": 4,
        "start_time": "2024-10-18T02:24:48.822Z"
      },
      {
        "duration": 3,
        "start_time": "2024-10-18T02:24:48.827Z"
      },
      {
        "duration": 4,
        "start_time": "2024-10-18T02:24:48.831Z"
      },
      {
        "duration": 14,
        "start_time": "2024-10-18T02:24:48.836Z"
      },
      {
        "duration": 8,
        "start_time": "2024-10-18T02:24:48.851Z"
      },
      {
        "duration": 51,
        "start_time": "2024-10-18T02:24:48.860Z"
      },
      {
        "duration": 5,
        "start_time": "2024-10-18T02:24:48.914Z"
      },
      {
        "duration": 149,
        "start_time": "2024-10-18T02:24:48.922Z"
      },
      {
        "duration": 6,
        "start_time": "2024-10-18T02:24:49.073Z"
      },
      {
        "duration": 129,
        "start_time": "2024-10-18T02:24:49.081Z"
      },
      {
        "duration": 7,
        "start_time": "2024-10-18T02:24:49.213Z"
      },
      {
        "duration": 6,
        "start_time": "2024-10-18T02:24:49.221Z"
      },
      {
        "duration": 3,
        "start_time": "2024-10-18T02:24:49.228Z"
      },
      {
        "duration": 17,
        "start_time": "2024-10-18T02:24:49.233Z"
      },
      {
        "duration": 123,
        "start_time": "2024-10-18T02:24:49.252Z"
      },
      {
        "duration": 161,
        "start_time": "2024-10-18T02:24:49.377Z"
      },
      {
        "duration": 2,
        "start_time": "2024-10-18T02:24:49.540Z"
      },
      {
        "duration": 28591,
        "start_time": "2024-10-18T02:24:49.545Z"
      },
      {
        "duration": 14,
        "start_time": "2024-10-18T02:25:18.138Z"
      },
      {
        "duration": 155,
        "start_time": "2024-10-18T02:25:18.154Z"
      },
      {
        "duration": 9,
        "start_time": "2024-10-18T02:25:18.312Z"
      },
      {
        "duration": 8,
        "start_time": "2024-10-18T02:25:18.322Z"
      },
      {
        "duration": 4,
        "start_time": "2024-10-18T02:25:18.332Z"
      },
      {
        "duration": 31,
        "start_time": "2024-10-18T02:25:18.340Z"
      },
      {
        "duration": 703,
        "start_time": "2024-10-18T02:25:18.373Z"
      },
      {
        "duration": 32,
        "start_time": "2024-10-18T02:25:19.077Z"
      },
      {
        "duration": 3,
        "start_time": "2024-10-18T02:25:19.113Z"
      },
      {
        "duration": 112,
        "start_time": "2024-10-18T02:25:19.118Z"
      },
      {
        "duration": 1028,
        "start_time": "2024-10-18T02:36:11.281Z"
      },
      {
        "duration": 3,
        "start_time": "2024-10-18T02:36:12.311Z"
      },
      {
        "duration": 30,
        "start_time": "2024-10-18T02:36:12.316Z"
      },
      {
        "duration": 9,
        "start_time": "2024-10-18T02:36:12.348Z"
      },
      {
        "duration": 4,
        "start_time": "2024-10-18T02:36:12.359Z"
      },
      {
        "duration": 5,
        "start_time": "2024-10-18T02:36:12.365Z"
      },
      {
        "duration": 38,
        "start_time": "2024-10-18T02:36:12.372Z"
      },
      {
        "duration": 6,
        "start_time": "2024-10-18T02:36:12.412Z"
      },
      {
        "duration": 15,
        "start_time": "2024-10-18T02:36:12.420Z"
      },
      {
        "duration": 3,
        "start_time": "2024-10-18T02:36:12.437Z"
      },
      {
        "duration": 6,
        "start_time": "2024-10-18T02:36:12.442Z"
      },
      {
        "duration": 10,
        "start_time": "2024-10-18T02:36:12.449Z"
      },
      {
        "duration": 2,
        "start_time": "2024-10-18T02:36:12.461Z"
      },
      {
        "duration": 42,
        "start_time": "2024-10-18T02:36:12.468Z"
      },
      {
        "duration": 4,
        "start_time": "2024-10-18T02:36:12.512Z"
      },
      {
        "duration": 4,
        "start_time": "2024-10-18T02:36:12.517Z"
      },
      {
        "duration": 3,
        "start_time": "2024-10-18T02:36:12.523Z"
      },
      {
        "duration": 4,
        "start_time": "2024-10-18T02:36:12.527Z"
      },
      {
        "duration": 2,
        "start_time": "2024-10-18T02:36:12.533Z"
      },
      {
        "duration": 4,
        "start_time": "2024-10-18T02:36:12.537Z"
      },
      {
        "duration": 21,
        "start_time": "2024-10-18T02:36:12.543Z"
      },
      {
        "duration": 44,
        "start_time": "2024-10-18T02:36:12.566Z"
      },
      {
        "duration": 14,
        "start_time": "2024-10-18T02:36:12.612Z"
      },
      {
        "duration": 5,
        "start_time": "2024-10-18T02:36:12.628Z"
      },
      {
        "duration": 146,
        "start_time": "2024-10-18T02:36:12.635Z"
      },
      {
        "duration": 6,
        "start_time": "2024-10-18T02:36:12.783Z"
      },
      {
        "duration": 126,
        "start_time": "2024-10-18T02:36:12.791Z"
      },
      {
        "duration": 8,
        "start_time": "2024-10-18T02:36:12.918Z"
      },
      {
        "duration": 5,
        "start_time": "2024-10-18T02:36:12.927Z"
      },
      {
        "duration": 3,
        "start_time": "2024-10-18T02:36:12.934Z"
      },
      {
        "duration": 18,
        "start_time": "2024-10-18T02:36:12.939Z"
      },
      {
        "duration": 127,
        "start_time": "2024-10-18T02:36:12.959Z"
      },
      {
        "duration": 163,
        "start_time": "2024-10-18T02:36:13.087Z"
      },
      {
        "duration": 3,
        "start_time": "2024-10-18T02:36:13.252Z"
      },
      {
        "duration": 28611,
        "start_time": "2024-10-18T02:36:13.257Z"
      },
      {
        "duration": 19,
        "start_time": "2024-10-18T02:36:41.870Z"
      },
      {
        "duration": 104,
        "start_time": "2024-10-18T02:36:41.909Z"
      },
      {
        "duration": 9,
        "start_time": "2024-10-18T02:36:42.015Z"
      },
      {
        "duration": 7,
        "start_time": "2024-10-18T02:36:42.026Z"
      },
      {
        "duration": 4,
        "start_time": "2024-10-18T02:36:42.035Z"
      },
      {
        "duration": 20,
        "start_time": "2024-10-18T02:36:42.043Z"
      },
      {
        "duration": 694,
        "start_time": "2024-10-18T02:36:42.065Z"
      },
      {
        "duration": 49,
        "start_time": "2024-10-18T02:36:42.761Z"
      },
      {
        "duration": 5,
        "start_time": "2024-10-18T02:36:42.814Z"
      },
      {
        "duration": 114,
        "start_time": "2024-10-18T02:36:42.821Z"
      },
      {
        "duration": 571,
        "start_time": "2024-10-18T02:44:18.888Z"
      },
      {
        "duration": 25,
        "start_time": "2024-10-18T02:44:39.354Z"
      },
      {
        "duration": 10,
        "start_time": "2024-10-18T02:48:01.717Z"
      },
      {
        "duration": 3,
        "start_time": "2024-10-18T02:50:51.607Z"
      },
      {
        "duration": 58,
        "start_time": "2024-10-18T02:50:54.420Z"
      },
      {
        "duration": 4,
        "start_time": "2024-10-18T02:51:41.302Z"
      },
      {
        "duration": 1119,
        "start_time": "2024-10-18T02:51:50.809Z"
      },
      {
        "duration": 15,
        "start_time": "2024-10-18T02:53:24.356Z"
      },
      {
        "duration": 4,
        "start_time": "2024-10-18T02:53:28.631Z"
      },
      {
        "duration": 1115,
        "start_time": "2024-10-18T02:53:29.109Z"
      },
      {
        "duration": 3,
        "start_time": "2024-10-18T02:53:34.723Z"
      },
      {
        "duration": 40,
        "start_time": "2024-10-18T02:55:27.783Z"
      },
      {
        "duration": 5,
        "start_time": "2024-10-18T02:56:17.582Z"
      },
      {
        "duration": 19,
        "start_time": "2024-10-18T02:56:30.884Z"
      },
      {
        "duration": 6,
        "start_time": "2024-10-18T02:56:56.447Z"
      },
      {
        "duration": 21,
        "start_time": "2024-10-18T02:56:59.408Z"
      },
      {
        "duration": 16,
        "start_time": "2024-10-18T02:57:04.113Z"
      },
      {
        "duration": 23,
        "start_time": "2024-10-18T02:57:06.747Z"
      },
      {
        "duration": 19,
        "start_time": "2024-10-18T02:57:10.585Z"
      },
      {
        "duration": 20,
        "start_time": "2024-10-18T02:57:14.097Z"
      },
      {
        "duration": 19,
        "start_time": "2024-10-18T02:57:21.660Z"
      },
      {
        "duration": 647,
        "start_time": "2024-10-18T02:57:36.606Z"
      },
      {
        "duration": 16,
        "start_time": "2024-10-18T02:57:55.099Z"
      },
      {
        "duration": 5,
        "start_time": "2024-10-18T02:57:57.609Z"
      },
      {
        "duration": 37,
        "start_time": "2024-10-18T02:57:59.971Z"
      },
      {
        "duration": 15,
        "start_time": "2024-10-18T02:59:10.850Z"
      },
      {
        "duration": 15,
        "start_time": "2024-10-18T02:59:18.786Z"
      },
      {
        "duration": 4,
        "start_time": "2024-10-18T02:59:21.046Z"
      },
      {
        "duration": 37,
        "start_time": "2024-10-18T02:59:22.472Z"
      },
      {
        "duration": 1148,
        "start_time": "2024-10-18T03:00:27.112Z"
      },
      {
        "duration": 3,
        "start_time": "2024-10-18T03:00:28.935Z"
      },
      {
        "duration": 1101,
        "start_time": "2024-10-18T03:00:31.013Z"
      },
      {
        "duration": 4,
        "start_time": "2024-10-18T03:00:36.972Z"
      },
      {
        "duration": 22,
        "start_time": "2024-10-18T03:04:38.699Z"
      },
      {
        "duration": 633,
        "start_time": "2024-10-18T03:04:48.127Z"
      },
      {
        "duration": 15,
        "start_time": "2024-10-18T03:04:53.603Z"
      },
      {
        "duration": 3,
        "start_time": "2024-10-18T03:06:54.829Z"
      },
      {
        "duration": 15,
        "start_time": "2024-10-18T03:14:00.235Z"
      },
      {
        "duration": 21,
        "start_time": "2024-10-18T03:14:02.935Z"
      },
      {
        "duration": 13,
        "start_time": "2024-10-18T03:14:06.268Z"
      },
      {
        "duration": 636,
        "start_time": "2024-10-18T03:14:32.622Z"
      },
      {
        "duration": 295,
        "start_time": "2024-10-18T03:14:50.145Z"
      },
      {
        "duration": 19,
        "start_time": "2024-10-18T03:15:09.007Z"
      },
      {
        "duration": 13,
        "start_time": "2024-10-18T03:15:20.697Z"
      },
      {
        "duration": 3,
        "start_time": "2024-10-18T03:16:40.073Z"
      },
      {
        "duration": 42,
        "start_time": "2024-10-18T03:16:41.233Z"
      },
      {
        "duration": 34,
        "start_time": "2024-10-18T03:17:25.573Z"
      },
      {
        "duration": 55,
        "start_time": "2024-10-18T03:17:35.573Z"
      },
      {
        "duration": 233,
        "start_time": "2024-10-18T03:19:09.936Z"
      },
      {
        "duration": 16,
        "start_time": "2024-10-18T03:20:51.625Z"
      },
      {
        "duration": 152,
        "start_time": "2024-10-18T03:26:27.184Z"
      },
      {
        "duration": 219,
        "start_time": "2024-10-18T03:26:41.304Z"
      },
      {
        "duration": 5,
        "start_time": "2024-10-18T03:31:09.277Z"
      },
      {
        "duration": 7,
        "start_time": "2024-10-18T03:31:14.172Z"
      },
      {
        "duration": 16,
        "start_time": "2024-10-18T03:31:17.931Z"
      },
      {
        "duration": 263,
        "start_time": "2024-10-18T03:32:06.248Z"
      },
      {
        "duration": 5,
        "start_time": "2024-10-18T03:34:31.910Z"
      },
      {
        "duration": 58,
        "start_time": "2024-10-18T03:34:38.459Z"
      },
      {
        "duration": 20,
        "start_time": "2024-10-18T03:34:51.935Z"
      },
      {
        "duration": 25,
        "start_time": "2024-10-18T03:35:54.592Z"
      },
      {
        "duration": 16,
        "start_time": "2024-10-18T03:46:39.657Z"
      },
      {
        "duration": 251,
        "start_time": "2024-10-18T03:48:20.834Z"
      },
      {
        "duration": 11,
        "start_time": "2024-10-18T03:53:04.774Z"
      },
      {
        "duration": 22,
        "start_time": "2024-10-18T03:53:15.959Z"
      },
      {
        "duration": 20,
        "start_time": "2024-10-18T03:53:22.635Z"
      },
      {
        "duration": 23,
        "start_time": "2024-10-18T03:53:41.625Z"
      },
      {
        "duration": 602,
        "start_time": "2024-10-18T03:53:46.288Z"
      },
      {
        "duration": 22,
        "start_time": "2024-10-18T03:54:11.759Z"
      },
      {
        "duration": 15,
        "start_time": "2024-10-18T03:54:14.650Z"
      },
      {
        "duration": 9,
        "start_time": "2024-10-18T03:56:41.111Z"
      },
      {
        "duration": 17,
        "start_time": "2024-10-18T03:58:20.638Z"
      },
      {
        "duration": 17,
        "start_time": "2024-10-18T03:58:48.250Z"
      },
      {
        "duration": 20,
        "start_time": "2024-10-18T03:58:53.325Z"
      },
      {
        "duration": 20,
        "start_time": "2024-10-18T03:58:54.466Z"
      },
      {
        "duration": 607,
        "start_time": "2024-10-18T03:58:56.473Z"
      },
      {
        "duration": 616,
        "start_time": "2024-10-18T03:58:59.036Z"
      },
      {
        "duration": 16,
        "start_time": "2024-10-18T03:59:00.653Z"
      },
      {
        "duration": 13,
        "start_time": "2024-10-18T03:59:04.174Z"
      },
      {
        "duration": 4,
        "start_time": "2024-10-18T03:59:07.135Z"
      },
      {
        "duration": 3,
        "start_time": "2024-10-18T03:59:53.493Z"
      },
      {
        "duration": 37,
        "start_time": "2024-10-18T04:01:03.689Z"
      },
      {
        "duration": 17,
        "start_time": "2024-10-18T04:01:08.953Z"
      },
      {
        "duration": 1013,
        "start_time": "2024-10-18T04:08:11.786Z"
      },
      {
        "duration": 3,
        "start_time": "2024-10-18T04:08:14.182Z"
      },
      {
        "duration": 36,
        "start_time": "2024-10-18T04:08:14.795Z"
      },
      {
        "duration": 11,
        "start_time": "2024-10-18T04:08:15.381Z"
      },
      {
        "duration": 3,
        "start_time": "2024-10-18T04:08:15.709Z"
      },
      {
        "duration": 5,
        "start_time": "2024-10-18T04:08:16.318Z"
      },
      {
        "duration": 10,
        "start_time": "2024-10-18T04:08:16.719Z"
      },
      {
        "duration": 8,
        "start_time": "2024-10-18T04:08:16.962Z"
      },
      {
        "duration": 24,
        "start_time": "2024-10-18T04:08:17.220Z"
      },
      {
        "duration": 4,
        "start_time": "2024-10-18T04:08:17.494Z"
      },
      {
        "duration": 8,
        "start_time": "2024-10-18T04:08:17.982Z"
      },
      {
        "duration": 10,
        "start_time": "2024-10-18T04:08:18.307Z"
      },
      {
        "duration": 3,
        "start_time": "2024-10-18T04:08:18.906Z"
      },
      {
        "duration": 6,
        "start_time": "2024-10-18T04:08:19.093Z"
      },
      {
        "duration": 4,
        "start_time": "2024-10-18T04:08:19.694Z"
      },
      {
        "duration": 4,
        "start_time": "2024-10-18T04:08:19.881Z"
      },
      {
        "duration": 3,
        "start_time": "2024-10-18T04:08:20.219Z"
      },
      {
        "duration": 4,
        "start_time": "2024-10-18T04:08:20.469Z"
      },
      {
        "duration": 2,
        "start_time": "2024-10-18T04:08:20.807Z"
      },
      {
        "duration": 4,
        "start_time": "2024-10-18T04:08:21.193Z"
      },
      {
        "duration": 14,
        "start_time": "2024-10-18T04:08:21.669Z"
      },
      {
        "duration": 9,
        "start_time": "2024-10-18T04:08:22.436Z"
      },
      {
        "duration": 15,
        "start_time": "2024-10-18T04:08:23.695Z"
      },
      {
        "duration": 8,
        "start_time": "2024-10-18T04:08:26.918Z"
      },
      {
        "duration": 7,
        "start_time": "2024-10-18T04:08:27.407Z"
      },
      {
        "duration": 3,
        "start_time": "2024-10-18T04:08:27.956Z"
      },
      {
        "duration": 27,
        "start_time": "2024-10-18T04:08:45.959Z"
      },
      {
        "duration": 100,
        "start_time": "2024-10-18T04:08:50.745Z"
      },
      {
        "duration": 148,
        "start_time": "2024-10-18T04:08:56.862Z"
      },
      {
        "duration": 4,
        "start_time": "2024-10-18T04:09:00.031Z"
      },
      {
        "duration": 29140,
        "start_time": "2024-10-18T04:09:02.784Z"
      },
      {
        "duration": 14,
        "start_time": "2024-10-18T04:09:31.927Z"
      },
      {
        "duration": 67,
        "start_time": "2024-10-18T04:10:16.295Z"
      },
      {
        "duration": 229,
        "start_time": "2024-10-18T04:10:22.864Z"
      },
      {
        "duration": 12,
        "start_time": "2024-10-18T04:10:29.085Z"
      },
      {
        "duration": 5,
        "start_time": "2024-10-18T04:10:34.534Z"
      },
      {
        "duration": 28,
        "start_time": "2024-10-18T04:10:58.687Z"
      },
      {
        "duration": 24,
        "start_time": "2024-10-18T04:11:25.549Z"
      },
      {
        "duration": 201,
        "start_time": "2024-10-18T04:11:30.900Z"
      },
      {
        "duration": 540,
        "start_time": "2024-10-18T04:12:20.598Z"
      },
      {
        "duration": 4,
        "start_time": "2024-10-18T04:12:40.110Z"
      },
      {
        "duration": 22,
        "start_time": "2024-10-18T04:23:00.066Z"
      },
      {
        "duration": 3,
        "start_time": "2024-10-18T04:27:57.933Z"
      },
      {
        "duration": 69,
        "start_time": "2024-10-18T04:28:26.322Z"
      },
      {
        "duration": 16,
        "start_time": "2024-10-18T04:32:24.262Z"
      },
      {
        "duration": 514,
        "start_time": "2024-10-18T04:33:17.750Z"
      },
      {
        "duration": 515,
        "start_time": "2024-10-18T04:34:01.740Z"
      },
      {
        "duration": 5,
        "start_time": "2024-10-18T04:35:02.488Z"
      },
      {
        "duration": 3,
        "start_time": "2024-10-18T04:35:07.389Z"
      },
      {
        "duration": 55,
        "start_time": "2024-10-18T04:41:20.205Z"
      },
      {
        "duration": 1098,
        "start_time": "2024-10-18T21:29:08.116Z"
      },
      {
        "duration": 2,
        "start_time": "2024-10-18T21:29:09.216Z"
      },
      {
        "duration": 35,
        "start_time": "2024-10-18T21:29:09.220Z"
      },
      {
        "duration": 9,
        "start_time": "2024-10-18T21:29:09.258Z"
      },
      {
        "duration": 3,
        "start_time": "2024-10-18T21:29:09.269Z"
      },
      {
        "duration": 6,
        "start_time": "2024-10-18T21:29:09.274Z"
      },
      {
        "duration": 9,
        "start_time": "2024-10-18T21:29:09.282Z"
      },
      {
        "duration": 7,
        "start_time": "2024-10-18T21:29:09.293Z"
      },
      {
        "duration": 17,
        "start_time": "2024-10-18T21:29:09.331Z"
      },
      {
        "duration": 4,
        "start_time": "2024-10-18T21:29:09.352Z"
      },
      {
        "duration": 6,
        "start_time": "2024-10-18T21:29:09.358Z"
      },
      {
        "duration": 9,
        "start_time": "2024-10-18T21:29:09.365Z"
      },
      {
        "duration": 4,
        "start_time": "2024-10-18T21:29:09.376Z"
      },
      {
        "duration": 7,
        "start_time": "2024-10-18T21:29:09.381Z"
      },
      {
        "duration": 42,
        "start_time": "2024-10-18T21:29:09.389Z"
      },
      {
        "duration": 4,
        "start_time": "2024-10-18T21:29:09.433Z"
      },
      {
        "duration": 3,
        "start_time": "2024-10-18T21:29:09.439Z"
      },
      {
        "duration": 4,
        "start_time": "2024-10-18T21:29:09.445Z"
      },
      {
        "duration": 3,
        "start_time": "2024-10-18T21:29:09.450Z"
      },
      {
        "duration": 3,
        "start_time": "2024-10-18T21:29:09.455Z"
      },
      {
        "duration": 13,
        "start_time": "2024-10-18T21:29:09.461Z"
      },
      {
        "duration": 7,
        "start_time": "2024-10-18T21:29:09.476Z"
      },
      {
        "duration": 52,
        "start_time": "2024-10-18T21:29:09.484Z"
      },
      {
        "duration": 6,
        "start_time": "2024-10-18T21:29:09.539Z"
      },
      {
        "duration": 6,
        "start_time": "2024-10-18T21:29:09.547Z"
      },
      {
        "duration": 3,
        "start_time": "2024-10-18T21:29:09.554Z"
      },
      {
        "duration": 23,
        "start_time": "2024-10-18T21:29:09.559Z"
      },
      {
        "duration": 125,
        "start_time": "2024-10-18T21:29:09.586Z"
      },
      {
        "duration": 163,
        "start_time": "2024-10-18T21:29:09.712Z"
      },
      {
        "duration": 3,
        "start_time": "2024-10-18T21:29:09.878Z"
      },
      {
        "duration": 28426,
        "start_time": "2024-10-18T21:29:09.882Z"
      },
      {
        "duration": 29,
        "start_time": "2024-10-18T21:29:38.309Z"
      },
      {
        "duration": 136,
        "start_time": "2024-10-18T21:29:38.346Z"
      },
      {
        "duration": 16,
        "start_time": "2024-10-18T21:29:38.484Z"
      },
      {
        "duration": 578,
        "start_time": "2024-10-18T21:29:38.530Z"
      },
      {
        "duration": 230,
        "start_time": "2024-10-18T21:29:39.111Z"
      },
      {
        "duration": 0,
        "start_time": "2024-10-18T21:29:39.343Z"
      },
      {
        "duration": 57,
        "start_time": "2024-10-18T21:29:52.313Z"
      },
      {
        "duration": 2674,
        "start_time": "2024-10-21T15:45:28.285Z"
      },
      {
        "duration": 4,
        "start_time": "2024-10-21T15:45:30.962Z"
      },
      {
        "duration": 40,
        "start_time": "2024-10-21T15:45:30.967Z"
      },
      {
        "duration": 9,
        "start_time": "2024-10-21T15:45:31.009Z"
      },
      {
        "duration": 4,
        "start_time": "2024-10-21T15:45:31.020Z"
      },
      {
        "duration": 5,
        "start_time": "2024-10-21T15:45:31.025Z"
      },
      {
        "duration": 9,
        "start_time": "2024-10-21T15:45:31.032Z"
      },
      {
        "duration": 6,
        "start_time": "2024-10-21T15:45:31.042Z"
      },
      {
        "duration": 48,
        "start_time": "2024-10-21T15:45:31.049Z"
      },
      {
        "duration": 4,
        "start_time": "2024-10-21T15:45:31.100Z"
      },
      {
        "duration": 5,
        "start_time": "2024-10-21T15:45:31.106Z"
      },
      {
        "duration": 8,
        "start_time": "2024-10-21T15:45:31.113Z"
      },
      {
        "duration": 2,
        "start_time": "2024-10-21T15:45:31.123Z"
      },
      {
        "duration": 5,
        "start_time": "2024-10-21T15:45:31.127Z"
      },
      {
        "duration": 3,
        "start_time": "2024-10-21T15:45:31.134Z"
      },
      {
        "duration": 4,
        "start_time": "2024-10-21T15:45:31.138Z"
      },
      {
        "duration": 43,
        "start_time": "2024-10-21T15:45:31.143Z"
      },
      {
        "duration": 3,
        "start_time": "2024-10-21T15:45:31.188Z"
      },
      {
        "duration": 2,
        "start_time": "2024-10-21T15:45:31.193Z"
      },
      {
        "duration": 3,
        "start_time": "2024-10-21T15:45:31.197Z"
      },
      {
        "duration": 13,
        "start_time": "2024-10-21T15:45:31.202Z"
      },
      {
        "duration": 7,
        "start_time": "2024-10-21T15:45:31.217Z"
      },
      {
        "duration": 14,
        "start_time": "2024-10-21T15:45:31.225Z"
      },
      {
        "duration": 46,
        "start_time": "2024-10-21T15:45:31.241Z"
      },
      {
        "duration": 5,
        "start_time": "2024-10-21T15:45:31.288Z"
      },
      {
        "duration": 3,
        "start_time": "2024-10-21T15:45:31.295Z"
      },
      {
        "duration": 23,
        "start_time": "2024-10-21T15:45:31.300Z"
      },
      {
        "duration": 129,
        "start_time": "2024-10-21T15:45:31.328Z"
      },
      {
        "duration": 170,
        "start_time": "2024-10-21T15:45:31.460Z"
      },
      {
        "duration": 3,
        "start_time": "2024-10-21T15:45:31.632Z"
      },
      {
        "duration": 28616,
        "start_time": "2024-10-21T15:45:31.636Z"
      },
      {
        "duration": 34,
        "start_time": "2024-10-21T15:46:00.253Z"
      },
      {
        "duration": 138,
        "start_time": "2024-10-21T15:46:00.289Z"
      },
      {
        "duration": 16,
        "start_time": "2024-10-21T15:46:00.429Z"
      },
      {
        "duration": 590,
        "start_time": "2024-10-21T15:46:00.486Z"
      },
      {
        "duration": 3,
        "start_time": "2024-10-21T15:46:01.078Z"
      },
      {
        "duration": 53,
        "start_time": "2024-10-21T15:46:01.087Z"
      },
      {
        "duration": 237,
        "start_time": "2024-10-21T16:04:02.072Z"
      },
      {
        "duration": 30,
        "start_time": "2024-10-21T16:04:17.333Z"
      },
      {
        "duration": 9,
        "start_time": "2024-10-21T16:04:34.101Z"
      },
      {
        "duration": 916,
        "start_time": "2024-10-21T16:05:02.959Z"
      },
      {
        "duration": 892,
        "start_time": "2024-10-21T16:05:19.562Z"
      },
      {
        "duration": 33,
        "start_time": "2024-10-21T16:08:59.376Z"
      },
      {
        "duration": 15,
        "start_time": "2024-10-21T16:09:02.031Z"
      },
      {
        "duration": 9,
        "start_time": "2024-10-21T16:13:55.910Z"
      },
      {
        "duration": 162,
        "start_time": "2024-10-21T16:13:56.897Z"
      },
      {
        "duration": 24,
        "start_time": "2024-10-21T16:14:50.152Z"
      },
      {
        "duration": 1017,
        "start_time": "2024-10-21T16:15:24.428Z"
      },
      {
        "duration": 20,
        "start_time": "2024-10-21T16:15:53.693Z"
      },
      {
        "duration": 1009,
        "start_time": "2024-10-21T16:15:59.404Z"
      },
      {
        "duration": 33,
        "start_time": "2024-10-21T16:16:28.724Z"
      },
      {
        "duration": 31,
        "start_time": "2024-10-21T16:16:58.835Z"
      },
      {
        "duration": 37,
        "start_time": "2024-10-21T16:17:40.918Z"
      },
      {
        "duration": 35,
        "start_time": "2024-10-21T16:17:55.982Z"
      },
      {
        "duration": 976,
        "start_time": "2024-10-21T16:18:43.394Z"
      },
      {
        "duration": 10,
        "start_time": "2024-10-21T16:21:30.990Z"
      },
      {
        "duration": 997,
        "start_time": "2024-10-21T16:21:35.557Z"
      },
      {
        "duration": 983,
        "start_time": "2024-10-21T16:24:12.265Z"
      },
      {
        "duration": 10,
        "start_time": "2024-10-21T16:24:43.611Z"
      },
      {
        "duration": 18,
        "start_time": "2024-10-21T16:24:45.796Z"
      },
      {
        "duration": 1006,
        "start_time": "2024-10-21T16:30:21.506Z"
      },
      {
        "duration": 223,
        "start_time": "2024-10-21T16:30:31.141Z"
      },
      {
        "duration": 4,
        "start_time": "2024-10-21T16:31:49.141Z"
      },
      {
        "duration": 55,
        "start_time": "2024-10-21T16:32:10.344Z"
      },
      {
        "duration": 5,
        "start_time": "2024-10-21T16:35:29.410Z"
      },
      {
        "duration": 4,
        "start_time": "2024-10-21T16:35:38.802Z"
      },
      {
        "duration": 1032,
        "start_time": "2024-10-21T17:00:54.435Z"
      },
      {
        "duration": 2,
        "start_time": "2024-10-21T17:00:55.469Z"
      },
      {
        "duration": 38,
        "start_time": "2024-10-21T17:00:55.473Z"
      },
      {
        "duration": 9,
        "start_time": "2024-10-21T17:00:55.513Z"
      },
      {
        "duration": 3,
        "start_time": "2024-10-21T17:00:55.524Z"
      },
      {
        "duration": 5,
        "start_time": "2024-10-21T17:00:55.529Z"
      },
      {
        "duration": 8,
        "start_time": "2024-10-21T17:00:55.536Z"
      },
      {
        "duration": 5,
        "start_time": "2024-10-21T17:00:55.546Z"
      },
      {
        "duration": 44,
        "start_time": "2024-10-21T17:00:55.553Z"
      },
      {
        "duration": 3,
        "start_time": "2024-10-21T17:00:55.600Z"
      },
      {
        "duration": 6,
        "start_time": "2024-10-21T17:00:55.604Z"
      },
      {
        "duration": 9,
        "start_time": "2024-10-21T17:00:55.612Z"
      },
      {
        "duration": 3,
        "start_time": "2024-10-21T17:00:55.622Z"
      },
      {
        "duration": 5,
        "start_time": "2024-10-21T17:00:55.627Z"
      },
      {
        "duration": 3,
        "start_time": "2024-10-21T17:00:55.634Z"
      },
      {
        "duration": 4,
        "start_time": "2024-10-21T17:00:55.638Z"
      },
      {
        "duration": 3,
        "start_time": "2024-10-21T17:00:55.687Z"
      },
      {
        "duration": 3,
        "start_time": "2024-10-21T17:00:55.691Z"
      },
      {
        "duration": 4,
        "start_time": "2024-10-21T17:00:55.696Z"
      },
      {
        "duration": 3,
        "start_time": "2024-10-21T17:00:55.702Z"
      },
      {
        "duration": 13,
        "start_time": "2024-10-21T17:00:55.706Z"
      },
      {
        "duration": 9,
        "start_time": "2024-10-21T17:00:55.721Z"
      },
      {
        "duration": 14,
        "start_time": "2024-10-21T17:00:55.731Z"
      },
      {
        "duration": 43,
        "start_time": "2024-10-21T17:00:55.746Z"
      },
      {
        "duration": 6,
        "start_time": "2024-10-21T17:00:55.790Z"
      },
      {
        "duration": 4,
        "start_time": "2024-10-21T17:00:55.797Z"
      },
      {
        "duration": 23,
        "start_time": "2024-10-21T17:00:55.802Z"
      },
      {
        "duration": 123,
        "start_time": "2024-10-21T17:00:55.830Z"
      },
      {
        "duration": 164,
        "start_time": "2024-10-21T17:00:55.955Z"
      },
      {
        "duration": 4,
        "start_time": "2024-10-21T17:00:56.120Z"
      },
      {
        "duration": 28693,
        "start_time": "2024-10-21T17:00:56.125Z"
      },
      {
        "duration": 14,
        "start_time": "2024-10-21T17:01:24.821Z"
      },
      {
        "duration": 192,
        "start_time": "2024-10-21T17:01:24.839Z"
      },
      {
        "duration": 18,
        "start_time": "2024-10-21T17:01:25.033Z"
      },
      {
        "duration": 587,
        "start_time": "2024-10-21T17:01:25.089Z"
      },
      {
        "duration": 3,
        "start_time": "2024-10-21T17:01:25.678Z"
      },
      {
        "duration": 54,
        "start_time": "2024-10-21T17:01:25.687Z"
      },
      {
        "duration": 16,
        "start_time": "2024-10-21T17:01:25.743Z"
      },
      {
        "duration": 39,
        "start_time": "2024-10-21T17:01:25.761Z"
      },
      {
        "duration": 1076,
        "start_time": "2024-10-21T17:01:25.803Z"
      },
      {
        "duration": 10,
        "start_time": "2024-10-21T17:01:26.881Z"
      },
      {
        "duration": 10,
        "start_time": "2024-10-21T17:01:26.894Z"
      },
      {
        "duration": 1087,
        "start_time": "2024-10-21T17:01:26.905Z"
      },
      {
        "duration": 1007,
        "start_time": "2024-10-21T17:01:27.994Z"
      },
      {
        "duration": 249,
        "start_time": "2024-10-21T17:01:29.003Z"
      },
      {
        "duration": 3,
        "start_time": "2024-10-21T17:01:29.253Z"
      },
      {
        "duration": 1062,
        "start_time": "2024-10-22T02:58:09.344Z"
      },
      {
        "duration": 2,
        "start_time": "2024-10-22T02:58:10.408Z"
      },
      {
        "duration": 34,
        "start_time": "2024-10-22T02:58:10.412Z"
      },
      {
        "duration": 11,
        "start_time": "2024-10-22T02:58:10.447Z"
      },
      {
        "duration": 3,
        "start_time": "2024-10-22T02:58:10.469Z"
      },
      {
        "duration": 5,
        "start_time": "2024-10-22T02:58:10.474Z"
      },
      {
        "duration": 8,
        "start_time": "2024-10-22T02:58:10.481Z"
      },
      {
        "duration": 6,
        "start_time": "2024-10-22T02:58:10.490Z"
      },
      {
        "duration": 16,
        "start_time": "2024-10-22T02:58:10.497Z"
      },
      {
        "duration": 5,
        "start_time": "2024-10-22T02:58:10.514Z"
      },
      {
        "duration": 6,
        "start_time": "2024-10-22T02:58:10.520Z"
      },
      {
        "duration": 50,
        "start_time": "2024-10-22T02:58:10.527Z"
      },
      {
        "duration": 3,
        "start_time": "2024-10-22T02:58:10.578Z"
      },
      {
        "duration": 5,
        "start_time": "2024-10-22T02:58:10.584Z"
      },
      {
        "duration": 3,
        "start_time": "2024-10-22T02:58:10.591Z"
      },
      {
        "duration": 4,
        "start_time": "2024-10-22T02:58:10.595Z"
      },
      {
        "duration": 3,
        "start_time": "2024-10-22T02:58:10.600Z"
      },
      {
        "duration": 4,
        "start_time": "2024-10-22T02:58:10.605Z"
      },
      {
        "duration": 2,
        "start_time": "2024-10-22T02:58:10.611Z"
      },
      {
        "duration": 3,
        "start_time": "2024-10-22T02:58:10.615Z"
      },
      {
        "duration": 61,
        "start_time": "2024-10-22T02:58:10.620Z"
      },
      {
        "duration": 8,
        "start_time": "2024-10-22T02:58:10.683Z"
      },
      {
        "duration": 14,
        "start_time": "2024-10-22T02:58:10.692Z"
      },
      {
        "duration": 6,
        "start_time": "2024-10-22T02:58:10.707Z"
      },
      {
        "duration": 5,
        "start_time": "2024-10-22T02:58:10.715Z"
      },
      {
        "duration": 3,
        "start_time": "2024-10-22T02:58:10.722Z"
      },
      {
        "duration": 56,
        "start_time": "2024-10-22T02:58:10.727Z"
      },
      {
        "duration": 109,
        "start_time": "2024-10-22T02:58:10.784Z"
      },
      {
        "duration": 164,
        "start_time": "2024-10-22T02:58:10.895Z"
      },
      {
        "duration": 8,
        "start_time": "2024-10-22T02:58:11.063Z"
      },
      {
        "duration": 29284,
        "start_time": "2024-10-22T02:58:11.073Z"
      },
      {
        "duration": 26,
        "start_time": "2024-10-22T02:58:40.360Z"
      },
      {
        "duration": 135,
        "start_time": "2024-10-22T02:58:40.388Z"
      },
      {
        "duration": 53,
        "start_time": "2024-10-22T02:58:40.524Z"
      },
      {
        "duration": 605,
        "start_time": "2024-10-22T02:58:40.579Z"
      },
      {
        "duration": 4,
        "start_time": "2024-10-22T02:58:41.186Z"
      },
      {
        "duration": 55,
        "start_time": "2024-10-22T02:58:41.192Z"
      },
      {
        "duration": 29,
        "start_time": "2024-10-22T02:58:41.249Z"
      },
      {
        "duration": 29,
        "start_time": "2024-10-22T02:58:41.279Z"
      },
      {
        "duration": 1089,
        "start_time": "2024-10-22T02:58:41.311Z"
      },
      {
        "duration": 11,
        "start_time": "2024-10-22T02:58:42.407Z"
      },
      {
        "duration": 19,
        "start_time": "2024-10-22T02:58:42.419Z"
      },
      {
        "duration": 1049,
        "start_time": "2024-10-22T02:58:42.471Z"
      },
      {
        "duration": 999,
        "start_time": "2024-10-22T02:58:43.523Z"
      },
      {
        "duration": 4,
        "start_time": "2024-10-22T02:58:44.782Z"
      },
      {
        "duration": 3,
        "start_time": "2024-10-22T02:58:44.787Z"
      },
      {
        "duration": 35,
        "start_time": "2024-10-22T02:58:44.792Z"
      },
      {
        "duration": 41,
        "start_time": "2024-10-22T02:58:44.830Z"
      },
      {
        "duration": 3,
        "start_time": "2024-10-22T02:58:44.873Z"
      },
      {
        "duration": 6,
        "start_time": "2024-10-22T02:58:44.878Z"
      },
      {
        "duration": 10,
        "start_time": "2024-10-22T02:58:44.885Z"
      },
      {
        "duration": 6,
        "start_time": "2024-10-22T02:58:44.897Z"
      },
      {
        "duration": 19,
        "start_time": "2024-10-22T02:58:44.905Z"
      },
      {
        "duration": 4,
        "start_time": "2024-10-22T02:58:44.925Z"
      },
      {
        "duration": 42,
        "start_time": "2024-10-22T02:58:44.931Z"
      },
      {
        "duration": 10,
        "start_time": "2024-10-22T02:58:44.976Z"
      },
      {
        "duration": 4,
        "start_time": "2024-10-22T02:58:44.989Z"
      },
      {
        "duration": 5,
        "start_time": "2024-10-22T02:58:44.997Z"
      },
      {
        "duration": 4,
        "start_time": "2024-10-22T02:58:45.004Z"
      },
      {
        "duration": 5,
        "start_time": "2024-10-22T02:58:45.009Z"
      },
      {
        "duration": 3,
        "start_time": "2024-10-22T02:58:45.015Z"
      },
      {
        "duration": 3,
        "start_time": "2024-10-22T02:58:45.020Z"
      },
      {
        "duration": 3,
        "start_time": "2024-10-22T02:58:45.024Z"
      },
      {
        "duration": 3,
        "start_time": "2024-10-22T02:58:45.072Z"
      },
      {
        "duration": 16,
        "start_time": "2024-10-22T02:58:45.077Z"
      },
      {
        "duration": 9,
        "start_time": "2024-10-22T02:58:45.095Z"
      },
      {
        "duration": 19,
        "start_time": "2024-10-22T02:58:45.106Z"
      },
      {
        "duration": 6,
        "start_time": "2024-10-22T02:58:45.127Z"
      },
      {
        "duration": 6,
        "start_time": "2024-10-22T02:58:45.134Z"
      },
      {
        "duration": 3,
        "start_time": "2024-10-22T02:58:45.170Z"
      },
      {
        "duration": 30,
        "start_time": "2024-10-22T02:58:45.175Z"
      },
      {
        "duration": 112,
        "start_time": "2024-10-22T02:58:45.207Z"
      },
      {
        "duration": 154,
        "start_time": "2024-10-22T02:58:45.322Z"
      },
      {
        "duration": 3,
        "start_time": "2024-10-22T02:58:45.478Z"
      },
      {
        "duration": 28949,
        "start_time": "2024-10-22T02:58:45.483Z"
      },
      {
        "duration": 15,
        "start_time": "2024-10-22T02:59:14.433Z"
      },
      {
        "duration": 153,
        "start_time": "2024-10-22T02:59:14.450Z"
      },
      {
        "duration": 65,
        "start_time": "2024-10-22T02:59:14.605Z"
      },
      {
        "duration": 598,
        "start_time": "2024-10-22T02:59:14.672Z"
      },
      {
        "duration": 5,
        "start_time": "2024-10-22T02:59:15.272Z"
      },
      {
        "duration": 54,
        "start_time": "2024-10-22T02:59:15.279Z"
      },
      {
        "duration": 9,
        "start_time": "2024-10-22T02:59:15.334Z"
      },
      {
        "duration": 42,
        "start_time": "2024-10-22T02:59:15.345Z"
      },
      {
        "duration": 1091,
        "start_time": "2024-10-22T02:59:15.389Z"
      },
      {
        "duration": 10,
        "start_time": "2024-10-22T02:59:16.482Z"
      },
      {
        "duration": 11,
        "start_time": "2024-10-22T02:59:16.494Z"
      },
      {
        "duration": 1120,
        "start_time": "2024-10-22T02:59:16.508Z"
      },
      {
        "duration": 991,
        "start_time": "2024-10-22T02:59:17.630Z"
      },
      {
        "duration": 238,
        "start_time": "2024-10-22T02:59:18.623Z"
      },
      {
        "duration": 8,
        "start_time": "2024-10-22T02:59:18.864Z"
      },
      {
        "duration": 1056,
        "start_time": "2024-10-22T04:10:40.736Z"
      },
      {
        "duration": 3,
        "start_time": "2024-10-22T04:10:41.795Z"
      },
      {
        "duration": 34,
        "start_time": "2024-10-22T04:10:41.800Z"
      },
      {
        "duration": 9,
        "start_time": "2024-10-22T04:10:41.836Z"
      },
      {
        "duration": 3,
        "start_time": "2024-10-22T04:10:41.848Z"
      },
      {
        "duration": 6,
        "start_time": "2024-10-22T04:10:41.853Z"
      },
      {
        "duration": 9,
        "start_time": "2024-10-22T04:10:41.886Z"
      },
      {
        "duration": 6,
        "start_time": "2024-10-22T04:10:41.897Z"
      },
      {
        "duration": 15,
        "start_time": "2024-10-22T04:10:41.905Z"
      },
      {
        "duration": 4,
        "start_time": "2024-10-22T04:10:41.922Z"
      },
      {
        "duration": 6,
        "start_time": "2024-10-22T04:10:41.927Z"
      },
      {
        "duration": 9,
        "start_time": "2024-10-22T04:10:41.935Z"
      },
      {
        "duration": 42,
        "start_time": "2024-10-22T04:10:41.945Z"
      },
      {
        "duration": 6,
        "start_time": "2024-10-22T04:10:41.991Z"
      },
      {
        "duration": 3,
        "start_time": "2024-10-22T04:10:41.998Z"
      },
      {
        "duration": 3,
        "start_time": "2024-10-22T04:10:42.003Z"
      },
      {
        "duration": 3,
        "start_time": "2024-10-22T04:10:42.008Z"
      },
      {
        "duration": 4,
        "start_time": "2024-10-22T04:10:42.013Z"
      },
      {
        "duration": 2,
        "start_time": "2024-10-22T04:10:42.019Z"
      },
      {
        "duration": 3,
        "start_time": "2024-10-22T04:10:42.023Z"
      },
      {
        "duration": 13,
        "start_time": "2024-10-22T04:10:42.028Z"
      },
      {
        "duration": 47,
        "start_time": "2024-10-22T04:10:42.043Z"
      },
      {
        "duration": 15,
        "start_time": "2024-10-22T04:10:42.092Z"
      },
      {
        "duration": 7,
        "start_time": "2024-10-22T04:10:42.108Z"
      },
      {
        "duration": 5,
        "start_time": "2024-10-22T04:10:42.117Z"
      },
      {
        "duration": 3,
        "start_time": "2024-10-22T04:10:42.123Z"
      },
      {
        "duration": 60,
        "start_time": "2024-10-22T04:10:42.128Z"
      },
      {
        "duration": 107,
        "start_time": "2024-10-22T04:10:42.190Z"
      },
      {
        "duration": 157,
        "start_time": "2024-10-22T04:10:42.298Z"
      },
      {
        "duration": 6,
        "start_time": "2024-10-22T04:10:42.457Z"
      },
      {
        "duration": 28792,
        "start_time": "2024-10-22T04:10:42.465Z"
      },
      {
        "duration": 30,
        "start_time": "2024-10-22T04:11:11.260Z"
      },
      {
        "duration": 134,
        "start_time": "2024-10-22T04:11:11.293Z"
      },
      {
        "duration": 19,
        "start_time": "2024-10-22T04:11:11.428Z"
      },
      {
        "duration": 584,
        "start_time": "2024-10-22T04:11:11.486Z"
      },
      {
        "duration": 3,
        "start_time": "2024-10-22T04:11:12.071Z"
      },
      {
        "duration": 54,
        "start_time": "2024-10-22T04:11:12.087Z"
      },
      {
        "duration": 10,
        "start_time": "2024-10-22T04:11:12.142Z"
      },
      {
        "duration": 41,
        "start_time": "2024-10-22T04:11:12.153Z"
      },
      {
        "duration": 1089,
        "start_time": "2024-10-22T04:11:12.196Z"
      },
      {
        "duration": 9,
        "start_time": "2024-10-22T04:11:13.292Z"
      },
      {
        "duration": 11,
        "start_time": "2024-10-22T04:11:13.303Z"
      },
      {
        "duration": 1126,
        "start_time": "2024-10-22T04:11:13.316Z"
      },
      {
        "duration": 998,
        "start_time": "2024-10-22T04:11:14.444Z"
      },
      {
        "duration": 233,
        "start_time": "2024-10-22T04:11:15.444Z"
      },
      {
        "duration": 7,
        "start_time": "2024-10-22T04:11:15.680Z"
      }
    ],
    "kernelspec": {
      "display_name": "Python 3 (ipykernel)",
      "language": "python",
      "name": "python3"
    },
    "language_info": {
      "codemirror_mode": {
        "name": "ipython",
        "version": 3
      },
      "file_extension": ".py",
      "mimetype": "text/x-python",
      "name": "python",
      "nbconvert_exporter": "python",
      "pygments_lexer": "ipython3",
      "version": "3.9.19"
    },
    "toc": {
      "base_numbering": 1,
      "nav_menu": {
        "height": "126px",
        "width": "205px"
      },
      "number_sections": true,
      "sideBar": true,
      "skip_h1_title": true,
      "title_cell": "Table of Contents",
      "title_sidebar": "Contents",
      "toc_cell": false,
      "toc_position": {},
      "toc_section_display": true,
      "toc_window_display": false
    },
    "colab": {
      "provenance": []
    }
  },
  "nbformat": 4,
  "nbformat_minor": 0
}